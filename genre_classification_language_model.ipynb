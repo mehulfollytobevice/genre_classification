{
  "nbformat": 4,
  "nbformat_minor": 0,
  "metadata": {
    "colab": {
      "name": "language_model.ipynb",
      "provenance": [],
      "collapsed_sections": []
    },
    "kernelspec": {
      "name": "python3",
      "display_name": "Python 3"
    },
    "language_info": {
      "name": "python"
    },
    "accelerator": "GPU"
  },
  "cells": [
    {
      "cell_type": "markdown",
      "metadata": {
        "id": "CTbM45oCUBms"
      },
      "source": [
        "# Judging Books By Their Cover Part 1: Language Model  "
      ]
    },
    {
      "cell_type": "markdown",
      "metadata": {
        "id": "cVTVy7T8KFwi"
      },
      "source": [
        "This is the first notebook of the project \"Judging Books By Their Cover\". In this project , we will build a multi-label classifier that can predict the genres of a book based on the description given for it. \n",
        "\n",
        "There are four jupyter notebooks in this project:\n",
        "1. **language_model.ipynb :** In this notebook, we build a language model that can be fine-tuned to create a multi-label classifier.\n",
        "2. **genre_classification_eda.ipynb :** In this notebook, we dive deep into the data and try to find some interesting patterns and come up with insights.\n",
        "3.**genre_classification_multi_label.ipynb :** In this notebook, we build our multi-label genre classifier using the fine-tuned language model from the first notebook.\n",
        "4. **genre_classification_app.ipynb :** Finally, we test our model using an application. \n",
        "\n",
        "The dataset used in this project can be found [here](https://www.kaggle.com/tanguypledel/science-fiction-books-subgenres?select=sf_alternate_history.csv).\n",
        "\n"
      ]
    },
    {
      "cell_type": "markdown",
      "metadata": {
        "id": "Hl8IVZTZSPQj"
      },
      "source": [
        "In this notebook, we build a language model that can be fine-tuned to create a multi-label classifier. To build a language model, the steps are:\n",
        "\n",
        "* **Tokenization:** Convert the text into a list of words (or characters, or substrings, depending on the granularity of your model)\n",
        "* **Numericalization:** Make a list of all of the unique words that appear (the vocab), and convert each word into a number, by looking up its index in the vocab\n",
        "* **Language model data loader creation:** fastai provides an LMDataLoader class which automatically handles creating a dependent variable that is offset from the independent variable by one token. It also handles some important details, such as how to shuffle the training data in such a way that the dependent and independent variables maintain their structure as required.\n",
        "* **Language model creation:** We need a special kind of model that handles input lists which could be arbitrarily big or small. There are a number of ways to do this; here we will be using a recurrent neural network (RNN).\n",
        "\n",
        "For more information on how to build a language model using fastai, go [here](https://colab.research.google.com/github/fastai/fastbook/blob/master/10_nlp.ipynb).\n",
        "\n",
        "So let's get started!!!"
      ]
    },
    {
      "cell_type": "markdown",
      "metadata": {
        "id": "HsOVk78a2EKR"
      },
      "source": [
        "##Downloading the dataset"
      ]
    },
    {
      "cell_type": "markdown",
      "metadata": {
        "id": "TwQHn1bI-YrP"
      },
      "source": [
        "The first task in our pipeline is to download our dataset from Kaggle. You can refer to my [blog posts](https://mehulfollytobevice.github.io/My_blogs/) where I have explained how to download a Kaggle dataset directly into the Google Drive. So, be sure to check those out if you want more explanation about what is going on here. Or, you can copy the code shown here and use it in your work. Also, all the code shown here is implemented in Google Colab but you can use the  notebook server of your choice. OK!!! Let's start.\n",
        "\n",
        "\n",
        "\n",
        "*Mounting the google drive*"
      ]
    },
    {
      "cell_type": "code",
      "metadata": {
        "colab": {
          "base_uri": "https://localhost:8080/"
        },
        "id": "QK0tC6b4xqJL",
        "outputId": "3e67e7dc-d802-4652-f22a-b4bec7c4f1d6"
      },
      "source": [
        "from google.colab import drive\n",
        "drive.mount('/content/gdrive')"
      ],
      "execution_count": null,
      "outputs": [
        {
          "output_type": "stream",
          "name": "stdout",
          "text": [
            "Mounted at /content/gdrive\n"
          ]
        }
      ]
    },
    {
      "cell_type": "markdown",
      "metadata": {
        "id": "AXlpNbYpdT54"
      },
      "source": [
        "*Where should the dataset be downloaded?*"
      ]
    },
    {
      "cell_type": "code",
      "metadata": {
        "colab": {
          "base_uri": "https://localhost:8080/"
        },
        "id": "u52GQxTVlssU",
        "outputId": "a901d3ac-7856-47ff-96b2-2f91f2b8a799"
      },
      "source": [
        "import os\n",
        "os.environ['KAGGLE_CONFIG_DIR'] = \"/content/gdrive/My Drive/kaggle/GenreClassification\" \n",
        "%cd /content/gdrive/My Drive/kaggle/GenreClassification"
      ],
      "execution_count": null,
      "outputs": [
        {
          "output_type": "stream",
          "name": "stdout",
          "text": [
            "/content/gdrive/My Drive/kaggle/GenreClassification\n"
          ]
        }
      ]
    },
    {
      "cell_type": "markdown",
      "metadata": {
        "id": "fC7yIEZyExk9"
      },
      "source": [
        "*Downloading the dataset from Kaggle*"
      ]
    },
    {
      "cell_type": "code",
      "metadata": {
        "colab": {
          "base_uri": "https://localhost:8080/"
        },
        "id": "A0K5mGKTmMYP",
        "outputId": "9ec387f6-e7a8-4d2a-ea80-f3045cfb7197"
      },
      "source": [
        "!kaggle datasets download -d tanguypledel/science-fiction-books-subgenres"
      ],
      "execution_count": null,
      "outputs": [
        {
          "output_type": "stream",
          "name": "stdout",
          "text": [
            "Downloading science-fiction-books-subgenres.zip to /content/gdrive/My Drive/kaggle/GenreClassification\n",
            "\r  0% 0.00/6.80M [00:00<?, ?B/s]\r 74% 5.00M/6.80M [00:00<00:00, 51.4MB/s]\n",
            "\r100% 6.80M/6.80M [00:00<00:00, 43.0MB/s]\n"
          ]
        }
      ]
    },
    {
      "cell_type": "markdown",
      "metadata": {
        "id": "o2ynu4D4E39U"
      },
      "source": [
        "*Unzipping the files*"
      ]
    },
    {
      "cell_type": "code",
      "metadata": {
        "colab": {
          "base_uri": "https://localhost:8080/"
        },
        "id": "YjXQlkc6mVyU",
        "outputId": "4185eec6-7763-4894-d4fc-f687442bb401"
      },
      "source": [
        "#collapse-output\n",
        "!unzip \\*.zip  && rm *.zip"
      ],
      "execution_count": null,
      "outputs": [
        {
          "output_type": "stream",
          "text": [
            "Archive:  science-fiction-books-subgenres.zip\n",
            "  inflating: sf_aliens.csv           \n",
            "  inflating: sf_alternate_history.csv  \n",
            "  inflating: sf_alternate_universe.csv  \n",
            "  inflating: sf_apocalyptic.csv      \n",
            "  inflating: sf_cyberpunk.csv        \n",
            "  inflating: sf_dystopia.csv         \n",
            "  inflating: sf_hard.csv             \n",
            "  inflating: sf_military.csv         \n",
            "  inflating: sf_robots.csv           \n",
            "  inflating: sf_space_opera.csv      \n",
            "  inflating: sf_steampunk.csv        \n",
            "  inflating: sf_time_travel.csv      \n"
          ],
          "name": "stdout"
        }
      ]
    },
    {
      "cell_type": "markdown",
      "metadata": {
        "id": "jsQ46Ic_E7Ue"
      },
      "source": [
        "*What files are present in the current directory?*\n",
        "\n"
      ]
    },
    {
      "cell_type": "code",
      "metadata": {
        "colab": {
          "base_uri": "https://localhost:8080/"
        },
        "id": "cvOgt1d8vA4Y",
        "outputId": "161e9184-d6f5-4ac2-b697-31c8653ea6cf"
      },
      "source": [
        "!ls"
      ],
      "execution_count": null,
      "outputs": [
        {
          "output_type": "stream",
          "name": "stdout",
          "text": [
            "book_data.csv\t\t\t     sf_cyberpunk.csv\n",
            "dls_lm.pickle\t\t\t     sf_dystopia.csv\n",
            "kaggle.json\t\t\t     sf_hard.csv\n",
            "models\t\t\t\t     sf_military.csv\n",
            "science-fiction-books-subgenres.zip  sf_robots.csv\n",
            "sf_aliens.csv\t\t\t     sf_space_opera.csv\n",
            "sf_alternate_history.csv\t     sf_steampunk.csv\n",
            "sf_alternate_universe.csv\t     sf_time_travel.csv\n",
            "sf_apocalyptic.csv\n"
          ]
        }
      ]
    },
    {
      "cell_type": "markdown",
      "metadata": {
        "id": "rcCiRdkQ4kJ2"
      },
      "source": [
        "The `!ls` commands shows all the file present in the directory. You can see that there are multiple CSV files in the directory. These files correspond to the different genres that books can be belong to. Before building our language model, we need to combine all these files into a single dataset."
      ]
    },
    {
      "cell_type": "markdown",
      "metadata": {
        "id": "fkxaHzB8wiOB"
      },
      "source": [
        "##Combining Datasets"
      ]
    },
    {
      "cell_type": "markdown",
      "metadata": {
        "id": "CAjSmPWQ6mq7"
      },
      "source": [
        "In this section, we will combine all the different subsets into a single dataset. This dataset wll contain information about all the books from different genres present in the dataset. \n",
        "\n",
        "First, let's open one of the CSV files and see what's in it. "
      ]
    },
    {
      "cell_type": "code",
      "metadata": {
        "colab": {
          "base_uri": "https://localhost:8080/",
          "height": 1000
        },
        "id": "cH9Jyj2Bwk1a",
        "outputId": "48a444ae-f00e-4c66-cf76-ee282460ec66"
      },
      "source": [
        "import pandas as pd\n",
        "df=pd.read_csv('sf_aliens.csv')\n",
        "df.head(10)"
      ],
      "execution_count": null,
      "outputs": [
        {
          "output_type": "execute_result",
          "data": {
            "text/html": [
              "<div>\n",
              "<style scoped>\n",
              "    .dataframe tbody tr th:only-of-type {\n",
              "        vertical-align: middle;\n",
              "    }\n",
              "\n",
              "    .dataframe tbody tr th {\n",
              "        vertical-align: top;\n",
              "    }\n",
              "\n",
              "    .dataframe thead th {\n",
              "        text-align: right;\n",
              "    }\n",
              "</style>\n",
              "<table border=\"1\" class=\"dataframe\">\n",
              "  <thead>\n",
              "    <tr style=\"text-align: right;\">\n",
              "      <th></th>\n",
              "      <th>Book_Title</th>\n",
              "      <th>Original_Book_Title</th>\n",
              "      <th>Author_Name</th>\n",
              "      <th>Edition_Language</th>\n",
              "      <th>Rating_score</th>\n",
              "      <th>Rating_votes</th>\n",
              "      <th>Review_number</th>\n",
              "      <th>Book_Description</th>\n",
              "      <th>Year_published</th>\n",
              "      <th>Genres</th>\n",
              "      <th>url</th>\n",
              "    </tr>\n",
              "  </thead>\n",
              "  <tbody>\n",
              "    <tr>\n",
              "      <th>0</th>\n",
              "      <td>Obsidian</td>\n",
              "      <td>Obsidian</td>\n",
              "      <td>Jennifer L. Armentrout</td>\n",
              "      <td>English</td>\n",
              "      <td>4.17</td>\n",
              "      <td>236780</td>\n",
              "      <td>18161</td>\n",
              "      <td>Starting over sucks.When we moved to West Virg...</td>\n",
              "      <td>2011</td>\n",
              "      <td>{'Young Adult': 3439, 'Fantasy (Paranormal) ':...</td>\n",
              "      <td>https://www.goodreads.com/book/show/12578077-o...</td>\n",
              "    </tr>\n",
              "    <tr>\n",
              "      <th>1</th>\n",
              "      <td>Onyx</td>\n",
              "      <td>Onyx</td>\n",
              "      <td>Jennifer L. Armentrout</td>\n",
              "      <td>English</td>\n",
              "      <td>4.27</td>\n",
              "      <td>153429</td>\n",
              "      <td>10497</td>\n",
              "      <td>BEING CONNECTED TO DAEMON BLACK SUCKS… Thanks ...</td>\n",
              "      <td>2012</td>\n",
              "      <td>{'Young Adult': 2271, 'Fantasy (Paranormal) ':...</td>\n",
              "      <td>https://www.goodreads.com/book/show/13047090-onyx</td>\n",
              "    </tr>\n",
              "    <tr>\n",
              "      <th>2</th>\n",
              "      <td>The 5th Wave</td>\n",
              "      <td>The 5th Wave</td>\n",
              "      <td>Rick Yancey</td>\n",
              "      <td>English</td>\n",
              "      <td>4.03</td>\n",
              "      <td>400600</td>\n",
              "      <td>29990</td>\n",
              "      <td>After the 1st wave, only darkness remains. Aft...</td>\n",
              "      <td>2013</td>\n",
              "      <td>{'Young Adult': 5436, 'Science Fiction': 3327,...</td>\n",
              "      <td>https://www.goodreads.com/book/show/16101128-t...</td>\n",
              "    </tr>\n",
              "    <tr>\n",
              "      <th>3</th>\n",
              "      <td>The Host</td>\n",
              "      <td>The Host</td>\n",
              "      <td>Stephenie Meyer</td>\n",
              "      <td>English</td>\n",
              "      <td>3.84</td>\n",
              "      <td>915026</td>\n",
              "      <td>41673</td>\n",
              "      <td>Melanie Stryder refuses to fade away. The eart...</td>\n",
              "      <td>2008</td>\n",
              "      <td>{'Young Adult': 4529, 'Science Fiction': 4285,...</td>\n",
              "      <td>https://www.goodreads.com/book/show/1656001.Th...</td>\n",
              "    </tr>\n",
              "    <tr>\n",
              "      <th>4</th>\n",
              "      <td>Opal</td>\n",
              "      <td>Opal</td>\n",
              "      <td>Jennifer L. Armentrout</td>\n",
              "      <td>None</td>\n",
              "      <td>4.27</td>\n",
              "      <td>129006</td>\n",
              "      <td>9463</td>\n",
              "      <td>No one is like Daemon Black.When he set out to...</td>\n",
              "      <td>2012</td>\n",
              "      <td>{'Young Adult': 1855, 'Fantasy (Paranormal) ':...</td>\n",
              "      <td>https://www.goodreads.com/book/show/13362536-opal</td>\n",
              "    </tr>\n",
              "    <tr>\n",
              "      <th>5</th>\n",
              "      <td>Origin</td>\n",
              "      <td>Origin</td>\n",
              "      <td>Jennifer L. Armentrout</td>\n",
              "      <td>English</td>\n",
              "      <td>4.35</td>\n",
              "      <td>93979</td>\n",
              "      <td>7660</td>\n",
              "      <td>Daemon will do anything to get Katy back.After...</td>\n",
              "      <td>2013</td>\n",
              "      <td>{'Young Adult': 1467, 'Fantasy (Paranormal) ':...</td>\n",
              "      <td>https://www.goodreads.com/book/show/13644052-o...</td>\n",
              "    </tr>\n",
              "    <tr>\n",
              "      <th>6</th>\n",
              "      <td>Opposition</td>\n",
              "      <td>Opposition</td>\n",
              "      <td>Jennifer L. Armentrout</td>\n",
              "      <td>English</td>\n",
              "      <td>4.37</td>\n",
              "      <td>67740</td>\n",
              "      <td>6862</td>\n",
              "      <td>Katy knows the world changed the night the Lux...</td>\n",
              "      <td>2014</td>\n",
              "      <td>{'Young Adult': 1186, 'Fantasy (Paranormal) ':...</td>\n",
              "      <td>https://www.goodreads.com/book/show/13644055-o...</td>\n",
              "    </tr>\n",
              "    <tr>\n",
              "      <th>7</th>\n",
              "      <td>I Am Number Four</td>\n",
              "      <td>I Am Number Four</td>\n",
              "      <td>Pittacus Lore</td>\n",
              "      <td>English</td>\n",
              "      <td>3.94</td>\n",
              "      <td>319092</td>\n",
              "      <td>15919</td>\n",
              "      <td>Nine of us came here. We look like you. We tal...</td>\n",
              "      <td>2010</td>\n",
              "      <td>{'Young Adult': 3598, 'Fantasy': 2417, 'Scienc...</td>\n",
              "      <td>https://www.goodreads.com/book/show/7747374-i-...</td>\n",
              "    </tr>\n",
              "    <tr>\n",
              "      <th>8</th>\n",
              "      <td>The Infinite Sea</td>\n",
              "      <td>The Infinite Sea</td>\n",
              "      <td>Rick Yancey</td>\n",
              "      <td>English</td>\n",
              "      <td>3.87</td>\n",
              "      <td>123001</td>\n",
              "      <td>12116</td>\n",
              "      <td>How do you rid the Earth of seven billion huma...</td>\n",
              "      <td>2014</td>\n",
              "      <td>{'Young Adult': 2197, 'Science Fiction': 1469,...</td>\n",
              "      <td>https://www.goodreads.com/book/show/16131484-t...</td>\n",
              "    </tr>\n",
              "    <tr>\n",
              "      <th>9</th>\n",
              "      <td>Shadows</td>\n",
              "      <td>Shadows</td>\n",
              "      <td>Jennifer L. Armentrout</td>\n",
              "      <td>English</td>\n",
              "      <td>4.12</td>\n",
              "      <td>36224</td>\n",
              "      <td>2955</td>\n",
              "      <td>The last thing Dawson Black expected was Betha...</td>\n",
              "      <td>2012</td>\n",
              "      <td>{'Young Adult': 766, 'Fantasy (Paranormal) ': ...</td>\n",
              "      <td>https://www.goodreads.com/book/show/13183957-s...</td>\n",
              "    </tr>\n",
              "  </tbody>\n",
              "</table>\n",
              "</div>"
            ],
            "text/plain": [
              "         Book_Title  ...                                                url\n",
              "0          Obsidian  ...  https://www.goodreads.com/book/show/12578077-o...\n",
              "1              Onyx  ...  https://www.goodreads.com/book/show/13047090-onyx\n",
              "2      The 5th Wave  ...  https://www.goodreads.com/book/show/16101128-t...\n",
              "3          The Host  ...  https://www.goodreads.com/book/show/1656001.Th...\n",
              "4              Opal  ...  https://www.goodreads.com/book/show/13362536-opal\n",
              "5            Origin  ...  https://www.goodreads.com/book/show/13644052-o...\n",
              "6        Opposition  ...  https://www.goodreads.com/book/show/13644055-o...\n",
              "7  I Am Number Four  ...  https://www.goodreads.com/book/show/7747374-i-...\n",
              "8  The Infinite Sea  ...  https://www.goodreads.com/book/show/16131484-t...\n",
              "9           Shadows  ...  https://www.goodreads.com/book/show/13183957-s...\n",
              "\n",
              "[10 rows x 11 columns]"
            ]
          },
          "metadata": {},
          "execution_count": 4
        }
      ]
    },
    {
      "cell_type": "markdown",
      "metadata": {
        "id": "A-m7RAPILS9f"
      },
      "source": [
        "Next, we will get the path of our current directory. "
      ]
    },
    {
      "cell_type": "code",
      "metadata": {
        "colab": {
          "base_uri": "https://localhost:8080/",
          "height": 34
        },
        "id": "3EMKFFRRk0mR",
        "outputId": "150e12f1-2f24-4e12-ebae-ff541d126e3e"
      },
      "source": [
        "import re\n",
        "from pathlib import Path\n",
        "path=os.getcwd()\n",
        "path"
      ],
      "execution_count": null,
      "outputs": [
        {
          "output_type": "execute_result",
          "data": {
            "application/vnd.google.colaboratory.intrinsic+json": {
              "type": "string"
            },
            "text/plain": [
              "'/content/gdrive/My Drive/kaggle/GenreClassification'"
            ]
          },
          "metadata": {},
          "execution_count": 5
        }
      ]
    },
    {
      "cell_type": "markdown",
      "metadata": {
        "id": "r0pFffuyLif2"
      },
      "source": [
        "Using the `os.listdir()`, we can get a list of all the files in the directory. As seen in the previous section, all the CSV files start with \"sf_\". So, we will filter the list of files and keep only those files which start with \"sf_\"."
      ]
    },
    {
      "cell_type": "code",
      "metadata": {
        "colab": {
          "base_uri": "https://localhost:8080/"
        },
        "id": "KJ2TjNThmhFc",
        "outputId": "4095a1f0-be71-4930-990b-a3dfba93822c"
      },
      "source": [
        "files=os.listdir(path)\n",
        "files=[i for i in files if i.startswith('sf_')]\n",
        "files"
      ],
      "execution_count": null,
      "outputs": [
        {
          "output_type": "execute_result",
          "data": {
            "text/plain": [
              "['sf_aliens.csv',\n",
              " 'sf_military.csv',\n",
              " 'sf_space_opera.csv',\n",
              " 'sf_hard.csv',\n",
              " 'sf_cyberpunk.csv',\n",
              " 'sf_apocalyptic.csv',\n",
              " 'sf_alternate_history.csv',\n",
              " 'sf_alternate_universe.csv',\n",
              " 'sf_steampunk.csv',\n",
              " 'sf_dystopia.csv',\n",
              " 'sf_robots.csv',\n",
              " 'sf_time_travel.csv']"
            ]
          },
          "metadata": {},
          "execution_count": 6
        }
      ]
    },
    {
      "cell_type": "markdown",
      "metadata": {
        "id": "cdZYdiw0MhLr"
      },
      "source": [
        "Now, we can combine all these subsets into a single dataset. "
      ]
    },
    {
      "cell_type": "code",
      "metadata": {
        "id": "wmVRR9NnoJXN"
      },
      "source": [
        "#combine the csv files\n",
        "#creating a list of all the dataframes\n",
        "dataframe_list=[]\n",
        "for f in files:\n",
        "  df=pd.read_csv(f)\n",
        "  dataframe_list.append(df) #adding to the list of dataframes\n",
        "  del df"
      ],
      "execution_count": null,
      "outputs": []
    },
    {
      "cell_type": "markdown",
      "metadata": {
        "id": "EMMRIJkvM2YC"
      },
      "source": [
        "The pandas function `pd.concat()` allows us to join/concatenate multiple dataframes. We will also shuffle the dataset so that books from different genres are present throughout the dataset. "
      ]
    },
    {
      "cell_type": "code",
      "metadata": {
        "id": "goSpLd02B5S9"
      },
      "source": [
        "book_data=pd.concat(dataframe_list,ignore_index=True) #concatenating the dataframes\n",
        "book_data=book_data.sample(frac=1) #shuffling the dataset"
      ],
      "execution_count": null,
      "outputs": []
    },
    {
      "cell_type": "markdown",
      "metadata": {
        "id": "1zksl0ymNNNb"
      },
      "source": [
        "*What is the shape of our newly created dataset?*"
      ]
    },
    {
      "cell_type": "code",
      "metadata": {
        "colab": {
          "base_uri": "https://localhost:8080/"
        },
        "id": "139V6NO4DHDp",
        "outputId": "c08b1d22-c094-4810-8494-94b149d7e687"
      },
      "source": [
        "book_data.shape"
      ],
      "execution_count": null,
      "outputs": [
        {
          "output_type": "execute_result",
          "data": {
            "text/plain": [
              "(14974, 11)"
            ]
          },
          "metadata": {},
          "execution_count": 9
        }
      ]
    },
    {
      "cell_type": "markdown",
      "metadata": {
        "id": "rxigpFFPNmcd"
      },
      "source": [
        "*What does our new dataset look like?*"
      ]
    },
    {
      "cell_type": "code",
      "metadata": {
        "colab": {
          "base_uri": "https://localhost:8080/",
          "height": 987
        },
        "id": "MzAsJViHDNI3",
        "outputId": "3dfc4655-b058-4c9f-c804-f26af25dc3a8"
      },
      "source": [
        "book_data.head(10)"
      ],
      "execution_count": null,
      "outputs": [
        {
          "output_type": "execute_result",
          "data": {
            "text/html": [
              "<div>\n",
              "<style scoped>\n",
              "    .dataframe tbody tr th:only-of-type {\n",
              "        vertical-align: middle;\n",
              "    }\n",
              "\n",
              "    .dataframe tbody tr th {\n",
              "        vertical-align: top;\n",
              "    }\n",
              "\n",
              "    .dataframe thead th {\n",
              "        text-align: right;\n",
              "    }\n",
              "</style>\n",
              "<table border=\"1\" class=\"dataframe\">\n",
              "  <thead>\n",
              "    <tr style=\"text-align: right;\">\n",
              "      <th></th>\n",
              "      <th>Book_Title</th>\n",
              "      <th>Original_Book_Title</th>\n",
              "      <th>Author_Name</th>\n",
              "      <th>Edition_Language</th>\n",
              "      <th>Rating_score</th>\n",
              "      <th>Rating_votes</th>\n",
              "      <th>Review_number</th>\n",
              "      <th>Book_Description</th>\n",
              "      <th>Year_published</th>\n",
              "      <th>Genres</th>\n",
              "      <th>url</th>\n",
              "    </tr>\n",
              "  </thead>\n",
              "  <tbody>\n",
              "    <tr>\n",
              "      <th>11920</th>\n",
              "      <td>Ink</td>\n",
              "      <td>Ink</td>\n",
              "      <td>Alice Broadway</td>\n",
              "      <td>English</td>\n",
              "      <td>3.63</td>\n",
              "      <td>9091</td>\n",
              "      <td>1455</td>\n",
              "      <td>There are no secrets in Saintstone.From the se...</td>\n",
              "      <td>2017</td>\n",
              "      <td>{'Fantasy': 441, 'Young Adult': 266, 'Science ...</td>\n",
              "      <td>https://www.goodreads.com/book/show/32827036-ink</td>\n",
              "    </tr>\n",
              "    <tr>\n",
              "      <th>1494</th>\n",
              "      <td>Luna Marine</td>\n",
              "      <td>Luna Marine (The Heritage Trilogy, Book 2)</td>\n",
              "      <td>Ian Douglas</td>\n",
              "      <td>English</td>\n",
              "      <td>3.93</td>\n",
              "      <td>1770</td>\n",
              "      <td>36</td>\n",
              "      <td>The revelations on Mars -- a half-million year...</td>\n",
              "      <td>1999</td>\n",
              "      <td>{'Science Fiction': 73, 'Fiction': 15, 'War (M...</td>\n",
              "      <td>https://www.goodreads.com/book/show/429563.Lun...</td>\n",
              "    </tr>\n",
              "    <tr>\n",
              "      <th>8104</th>\n",
              "      <td>Manifest Destiny, Vol. 1: Flora &amp; Fauna</td>\n",
              "      <td>\\n                  1607069822\\n              ...</td>\n",
              "      <td>Chris Dingess</td>\n",
              "      <td>English</td>\n",
              "      <td>3.89</td>\n",
              "      <td>2460</td>\n",
              "      <td>268</td>\n",
              "      <td>In 1804, Captain Meriwether Lewis and Second L...</td>\n",
              "      <td>2014</td>\n",
              "      <td>{'Sequential Art (Graphic Novels) ': 229, 'Seq...</td>\n",
              "      <td>https://www.goodreads.com/book/show/20881158-m...</td>\n",
              "    </tr>\n",
              "    <tr>\n",
              "      <th>4841</th>\n",
              "      <td>Prey</td>\n",
              "      <td>Prey</td>\n",
              "      <td>Michael Crichton</td>\n",
              "      <td>English</td>\n",
              "      <td>3.76</td>\n",
              "      <td>168138</td>\n",
              "      <td>3468</td>\n",
              "      <td>In the Nevada desert, an experiment has gone h...</td>\n",
              "      <td>2002</td>\n",
              "      <td>{'Fiction': 1623, 'Science Fiction': 1525, 'Th...</td>\n",
              "      <td>https://www.goodreads.com/book/show/83763.Prey</td>\n",
              "    </tr>\n",
              "    <tr>\n",
              "      <th>5271</th>\n",
              "      <td>Battle Angel Alita, Volume 06: Angel Of Death</td>\n",
              "      <td>銃夢 6</td>\n",
              "      <td>Yukito Kishiro</td>\n",
              "      <td>English</td>\n",
              "      <td>4.25</td>\n",
              "      <td>1911</td>\n",
              "      <td>59</td>\n",
              "      <td>Alita's death sentence is commuted in exchange...</td>\n",
              "      <td>1994</td>\n",
              "      <td>{'Sequential Art (Manga) ': 334, 'Sequential A...</td>\n",
              "      <td>https://www.goodreads.com/book/show/60293.Batt...</td>\n",
              "    </tr>\n",
              "    <tr>\n",
              "      <th>13510</th>\n",
              "      <td>All about Emily</td>\n",
              "      <td>All about Emily</td>\n",
              "      <td>Connie Willis</td>\n",
              "      <td>English</td>\n",
              "      <td>3.70</td>\n",
              "      <td>789</td>\n",
              "      <td>132</td>\n",
              "      <td>Theater legend Claire Havilland fears she migh...</td>\n",
              "      <td>2011</td>\n",
              "      <td>{'Science Fiction': 75, 'Fiction': 23, 'Novell...</td>\n",
              "      <td>https://www.goodreads.com/book/show/12756995-a...</td>\n",
              "    </tr>\n",
              "    <tr>\n",
              "      <th>10365</th>\n",
              "      <td>Fire &amp; Frost</td>\n",
              "      <td>Fire &amp; Frost</td>\n",
              "      <td>Meljean Brook</td>\n",
              "      <td>English</td>\n",
              "      <td>3.84</td>\n",
              "      <td>901</td>\n",
              "      <td>102</td>\n",
              "      <td>From the authors who brought you Wild &amp; Steamy...</td>\n",
              "      <td>2013</td>\n",
              "      <td>{'Science Fiction (Steampunk) ': 88, 'Romance ...</td>\n",
              "      <td>https://www.goodreads.com/book/show/17236852-f...</td>\n",
              "    </tr>\n",
              "    <tr>\n",
              "      <th>3817</th>\n",
              "      <td>The Ringworld Engineers</td>\n",
              "      <td>The Ringworld Engineers</td>\n",
              "      <td>Larry Niven</td>\n",
              "      <td>English</td>\n",
              "      <td>3.88</td>\n",
              "      <td>29636</td>\n",
              "      <td>591</td>\n",
              "      <td>\"This rousing sequel to the classic Ringworld ...</td>\n",
              "      <td>1979</td>\n",
              "      <td>{'Science Fiction': 985, 'Fiction': 259, 'Scie...</td>\n",
              "      <td>https://www.goodreads.com/book/show/61181.The_...</td>\n",
              "    </tr>\n",
              "    <tr>\n",
              "      <th>10302</th>\n",
              "      <td>The Kraken King and the Inevitable Abduction</td>\n",
              "      <td>B00HZ1E68E</td>\n",
              "      <td>Meljean Brook</td>\n",
              "      <td>English</td>\n",
              "      <td>4.43</td>\n",
              "      <td>769</td>\n",
              "      <td>65</td>\n",
              "      <td>The Kraken King has declared that Zenobia Fox ...</td>\n",
              "      <td>2014</td>\n",
              "      <td>{'Science Fiction (Steampunk) ': 113, 'Romance...</td>\n",
              "      <td>https://www.goodreads.com/book/show/20645262-t...</td>\n",
              "    </tr>\n",
              "    <tr>\n",
              "      <th>10214</th>\n",
              "      <td>The Looking Glass Wars</td>\n",
              "      <td>The Looking Glass Wars</td>\n",
              "      <td>Frank Beddor</td>\n",
              "      <td>English</td>\n",
              "      <td>3.93</td>\n",
              "      <td>42074</td>\n",
              "      <td>3873</td>\n",
              "      <td>Alyss of Wonderland?When Alyss Heart, newly or...</td>\n",
              "      <td>2004</td>\n",
              "      <td>{'Fantasy': 2494, 'Young Adult': 1222, 'Fictio...</td>\n",
              "      <td>https://www.goodreads.com/book/show/44170.The_...</td>\n",
              "    </tr>\n",
              "  </tbody>\n",
              "</table>\n",
              "</div>"
            ],
            "text/plain": [
              "                                          Book_Title  ...                                                url\n",
              "11920                                            Ink  ...   https://www.goodreads.com/book/show/32827036-ink\n",
              "1494                                     Luna Marine  ...  https://www.goodreads.com/book/show/429563.Lun...\n",
              "8104         Manifest Destiny, Vol. 1: Flora & Fauna  ...  https://www.goodreads.com/book/show/20881158-m...\n",
              "4841                                            Prey  ...     https://www.goodreads.com/book/show/83763.Prey\n",
              "5271   Battle Angel Alita, Volume 06: Angel Of Death  ...  https://www.goodreads.com/book/show/60293.Batt...\n",
              "13510                                All about Emily  ...  https://www.goodreads.com/book/show/12756995-a...\n",
              "10365                                   Fire & Frost  ...  https://www.goodreads.com/book/show/17236852-f...\n",
              "3817                         The Ringworld Engineers  ...  https://www.goodreads.com/book/show/61181.The_...\n",
              "10302   The Kraken King and the Inevitable Abduction  ...  https://www.goodreads.com/book/show/20645262-t...\n",
              "10214                         The Looking Glass Wars  ...  https://www.goodreads.com/book/show/44170.The_...\n",
              "\n",
              "[10 rows x 11 columns]"
            ]
          },
          "metadata": {},
          "execution_count": 10
        }
      ]
    },
    {
      "cell_type": "markdown",
      "metadata": {
        "id": "tyTG1OubEb8_"
      },
      "source": [
        "Let's save the dataset into a CSV file. "
      ]
    },
    {
      "cell_type": "code",
      "metadata": {
        "id": "t-qZ1p1cKTbB"
      },
      "source": [
        "book_data.to_csv('book_data.csv')"
      ],
      "execution_count": null,
      "outputs": []
    },
    {
      "cell_type": "markdown",
      "metadata": {
        "id": "yyNvilkLJtWo"
      },
      "source": [
        "## Data pre-processing "
      ]
    },
    {
      "cell_type": "markdown",
      "metadata": {
        "id": "U-6bWlcUYqkz"
      },
      "source": [
        "Now that we have our dataset, we can move to the next step. But before that, let's install the updated version of the fastai library. \n",
        "\n"
      ]
    },
    {
      "cell_type": "code",
      "metadata": {
        "colab": {
          "base_uri": "https://localhost:8080/"
        },
        "id": "Tb3IgprEDPzF",
        "outputId": "3c63c1f2-e6c5-4285-822d-f177d157d018"
      },
      "source": [
        "! [ -e /content ] && pip install -Uqq fastai"
      ],
      "execution_count": null,
      "outputs": [
        {
          "output_type": "stream",
          "name": "stdout",
          "text": [
            "\u001b[K     |████████████████████████████████| 186 kB 5.5 MB/s \n",
            "\u001b[K     |████████████████████████████████| 56 kB 4.0 MB/s \n",
            "\u001b[?25h"
          ]
        }
      ]
    },
    {
      "cell_type": "markdown",
      "metadata": {
        "id": "IMOEfx0YtV1z"
      },
      "source": [
        "Let's import the necessary funtions from fastai"
      ]
    },
    {
      "cell_type": "code",
      "metadata": {
        "id": "zkb-6FDBJxGu"
      },
      "source": [
        "from fastai.text.all import *"
      ],
      "execution_count": null,
      "outputs": []
    },
    {
      "cell_type": "markdown",
      "metadata": {
        "id": "AKLk_240ukvl"
      },
      "source": [
        "Loading the dataset"
      ]
    },
    {
      "cell_type": "code",
      "metadata": {
        "id": "oqJa7IuPJlvd"
      },
      "source": [
        "book_data=pd.read_csv('book_data.csv')"
      ],
      "execution_count": null,
      "outputs": []
    },
    {
      "cell_type": "markdown",
      "metadata": {
        "id": "pQEWkMlVusjA"
      },
      "source": [
        "*What columns are present in our dataset?*"
      ]
    },
    {
      "cell_type": "code",
      "metadata": {
        "colab": {
          "base_uri": "https://localhost:8080/"
        },
        "id": "PBluYHHs-Iv7",
        "outputId": "d19d65b8-ff66-4a68-c8c0-afbb6a20ff38"
      },
      "source": [
        "book_data.columns"
      ],
      "execution_count": null,
      "outputs": [
        {
          "output_type": "execute_result",
          "data": {
            "text/plain": [
              "Index(['Unnamed: 0', 'Book_Title', 'Original_Book_Title', 'Author_Name',\n",
              "       'Edition_Language', 'Rating_score', 'Rating_votes', 'Review_number',\n",
              "       'Book_Description', 'Year_published', 'Genres', 'url'],\n",
              "      dtype='object')"
            ]
          },
          "metadata": {},
          "execution_count": 6
        }
      ]
    },
    {
      "cell_type": "markdown",
      "metadata": {
        "id": "n8XlAkglwv7r"
      },
      "source": [
        "In the beginning of this notebook, we saw the steps required to build a language model using fastai. The first two steps in the process; tokenization and numericalization are taken care of by fastai when we define our `DataBlock`.   \n",
        "\n",
        "After we create our `DataBlock`, we can go to the third step. We can build our `dataloader`."
      ]
    },
    {
      "cell_type": "code",
      "metadata": {
        "colab": {
          "base_uri": "https://localhost:8080/",
          "height": 70
        },
        "id": "Dz1IiL73s7ug",
        "outputId": "f8391594-7bcd-4d93-ea16-b8607bde7bdb"
      },
      "source": [
        "datablock_lm=DataBlock(\n",
        "    blocks=TextBlock.from_df('Book_Description',is_lm=True),\n",
        "    get_x=ColReader('text') ,splitter=RandomSplitter()) #datablock for our language model\n",
        "\n",
        "dls_lm=datablock_lm.dataloaders(book_data,bs=128,seq_len=72) #creating dataloader"
      ],
      "execution_count": null,
      "outputs": [
        {
          "output_type": "display_data",
          "data": {
            "text/html": [
              ""
            ],
            "text/plain": [
              "<IPython.core.display.HTML object>"
            ]
          },
          "metadata": {}
        },
        {
          "output_type": "stream",
          "name": "stderr",
          "text": [
            "/usr/local/lib/python3.7/dist-packages/numpy/core/_asarray.py:83: VisibleDeprecationWarning: Creating an ndarray from ragged nested sequences (which is a list-or-tuple of lists-or-tuples-or ndarrays with different lengths or shapes) is deprecated. If you meant to do this, you must specify 'dtype=object' when creating the ndarray\n",
            "  return array(a, dtype, copy=False, order=order)\n"
          ]
        }
      ]
    },
    {
      "cell_type": "markdown",
      "metadata": {
        "id": "qrOVPGjFzI22"
      },
      "source": [
        "We can also see what a batch in the dataloader looks like."
      ]
    },
    {
      "cell_type": "code",
      "metadata": {
        "id": "Yq8ccSP2UWv5",
        "colab": {
          "base_uri": "https://localhost:8080/",
          "height": 568
        },
        "outputId": "3541bc9f-1add-49b8-d23c-5cc79c9b9471"
      },
      "source": [
        "dls_lm.show_batch(max_n=6)"
      ],
      "execution_count": null,
      "outputs": [
        {
          "output_type": "display_data",
          "data": {
            "text/html": [
              "<table border=\"1\" class=\"dataframe\">\n",
              "  <thead>\n",
              "    <tr style=\"text-align: right;\">\n",
              "      <th></th>\n",
              "      <th>text</th>\n",
              "      <th>text_</th>\n",
              "    </tr>\n",
              "  </thead>\n",
              "  <tbody>\n",
              "    <tr>\n",
              "      <th>0</th>\n",
              "      <td>xxbos xxmaj at last , the costly and bitter war between the two xxmaj foundations had come to an end . xxmaj the scientists of the xxmaj first xxmaj foundation had proved victorious ; and now they return to xxmaj hari xxmaj seldon 's long - established plan to build a new xxmaj empire on the ruins of the old . xxmaj but rumors persist that the xxmaj second xxmaj foundation is</td>\n",
              "      <td>xxmaj at last , the costly and bitter war between the two xxmaj foundations had come to an end . xxmaj the scientists of the xxmaj first xxmaj foundation had proved victorious ; and now they return to xxmaj hari xxmaj seldon 's long - established plan to build a new xxmaj empire on the ruins of the old . xxmaj but rumors persist that the xxmaj second xxmaj foundation is not</td>\n",
              "    </tr>\n",
              "    <tr>\n",
              "      <th>1</th>\n",
              "      <td>the events in xxup the xxup creeping xxup shadow , we join xxmaj lockwood , xxmaj lucy , xxmaj george , xxmaj holly , and their associate xxmaj quill xxmaj kipps on a perilous night mission : they have broken into the booby - trapped xxmaj fittes xxmaj mausoleum , where the body of the legendary psychic heroine xxmaj marissa xxmaj fittes lies . xxmaj or does it ? xxmaj this is</td>\n",
              "      <td>events in xxup the xxup creeping xxup shadow , we join xxmaj lockwood , xxmaj lucy , xxmaj george , xxmaj holly , and their associate xxmaj quill xxmaj kipps on a perilous night mission : they have broken into the booby - trapped xxmaj fittes xxmaj mausoleum , where the body of the legendary psychic heroine xxmaj marissa xxmaj fittes lies . xxmaj or does it ? xxmaj this is just</td>\n",
              "    </tr>\n",
              "    <tr>\n",
              "      <th>2</th>\n",
              "      <td>: xxmaj fantasy [ xxmaj time xxmaj demons xxmaj they xxmaj see xxmaj me xxmaj xxunk ' xxmaj young xxmaj inside xxmaj disturbing xxmaj allies ] xxbos xxmaj no one expects a princess to be brutal . xxmaj and xxmaj lada xxmaj xxunk likes it that way . xxmaj ever since she and her gentle younger brother , xxmaj radu , were wrenched from their homeland of xxmaj wallachia and abandoned by</td>\n",
              "      <td>xxmaj fantasy [ xxmaj time xxmaj demons xxmaj they xxmaj see xxmaj me xxmaj xxunk ' xxmaj young xxmaj inside xxmaj disturbing xxmaj allies ] xxbos xxmaj no one expects a princess to be brutal . xxmaj and xxmaj lada xxmaj xxunk likes it that way . xxmaj ever since she and her gentle younger brother , xxmaj radu , were wrenched from their homeland of xxmaj wallachia and abandoned by their</td>\n",
              "    </tr>\n",
              "    <tr>\n",
              "      <th>3</th>\n",
              "      <td>, and calamity . xxmaj in doing so , these visionary authors have addressed one of the most challenging and enduring themes of imaginative fiction : xxmaj the nature of life in the aftermath of total societal collapse . xxmaj gathering together the best post - apocalyptic literature of the last two decades from many of today 's most renowned authors of speculative fiction - including xxmaj george xxup r. xxup r.</td>\n",
              "      <td>and calamity . xxmaj in doing so , these visionary authors have addressed one of the most challenging and enduring themes of imaginative fiction : xxmaj the nature of life in the aftermath of total societal collapse . xxmaj gathering together the best post - apocalyptic literature of the last two decades from many of today 's most renowned authors of speculative fiction - including xxmaj george xxup r. xxup r. xxmaj</td>\n",
              "    </tr>\n",
              "    <tr>\n",
              "      <th>4</th>\n",
              "      <td>, but xxmaj xxunk , who is still haunted by the events of the first book ( in which he lost his wife and was framed for murder and treason ) , refuses . xxmaj while xxmaj marcus works to avoid a world war , his lover xxmaj una is intent on discovering the truth about his ambitious cousin xxmaj xxunk 's involvement in a conspiracy that almost claimed xxmaj marcus 's</td>\n",
              "      <td>but xxmaj xxunk , who is still haunted by the events of the first book ( in which he lost his wife and was framed for murder and treason ) , refuses . xxmaj while xxmaj marcus works to avoid a world war , his lover xxmaj una is intent on discovering the truth about his ambitious cousin xxmaj xxunk 's involvement in a conspiracy that almost claimed xxmaj marcus 's life</td>\n",
              "    </tr>\n",
              "    <tr>\n",
              "      <th>5</th>\n",
              "      <td>sent xxup xxunk , with its mixed crew of xxunk and planet - bound technicians , to xxmaj xxunk to catalogue fauna and flora and search for new energy sources . xxmaj it was a simple mission . a standard xxunk xxunk and his beautiful co - leader xxmaj varian , the best xxunk - vet in the business , followed all the standard procedures -- but the results of their investigations</td>\n",
              "      <td>xxup xxunk , with its mixed crew of xxunk and planet - bound technicians , to xxmaj xxunk to catalogue fauna and flora and search for new energy sources . xxmaj it was a simple mission . a standard xxunk xxunk and his beautiful co - leader xxmaj varian , the best xxunk - vet in the business , followed all the standard procedures -- but the results of their investigations were</td>\n",
              "    </tr>\n",
              "  </tbody>\n",
              "</table>"
            ],
            "text/plain": [
              "<IPython.core.display.HTML object>"
            ]
          },
          "metadata": {}
        }
      ]
    },
    {
      "cell_type": "markdown",
      "metadata": {
        "id": "RfDUJdMLtmyg"
      },
      "source": [
        "Creating the dataloader can be time-consuming, so let's save it. "
      ]
    },
    {
      "cell_type": "code",
      "metadata": {
        "id": "wcciqMoAtsAR"
      },
      "source": [
        "import pickle \n",
        "with open('dls_lm.pickle','wb') as f:\n",
        "  pickle.dump(dls_lm,f)"
      ],
      "execution_count": null,
      "outputs": []
    },
    {
      "cell_type": "markdown",
      "metadata": {
        "id": "3HRw9xRH4eAE"
      },
      "source": [
        "## Creating language model"
      ]
    },
    {
      "cell_type": "markdown",
      "metadata": {
        "id": "QeSVY1iS2xKI"
      },
      "source": [
        "Now that everthing is in place, we can create our language model.\n",
        "\n",
        "To create our language model, we will use transfer learning. FastAI provides us with pre-trained models that can be fine-tuned for the task at hand. Here, we will use the pre-trained **AWD-LSTM** model to create our language model."
      ]
    },
    {
      "cell_type": "code",
      "metadata": {
        "id": "3p-_CJj5Z7RP",
        "colab": {
          "base_uri": "https://localhost:8080/",
          "height": 37
        },
        "outputId": "dd77d393-df93-416f-f322-a65e430c36b2"
      },
      "source": [
        "learn=language_model_learner(\n",
        "    dls_lm,AWD_LSTM,drop_mult=0.3,\n",
        "    metrics=[accuracy,Perplexity()]).to_fp16()"
      ],
      "execution_count": null,
      "outputs": [
        {
          "output_type": "display_data",
          "data": {
            "text/html": [
              "\n",
              "    <div>\n",
              "        <style>\n",
              "            /* Turns off some styling */\n",
              "            progress {\n",
              "                /* gets rid of default border in Firefox and Opera. */\n",
              "                border: none;\n",
              "                /* Needs to be in here for Safari polyfill so background images work as expected. */\n",
              "                background-size: auto;\n",
              "            }\n",
              "            .progress-bar-interrupted, .progress-bar-interrupted::-webkit-progress-bar {\n",
              "                background: #F44336;\n",
              "            }\n",
              "        </style>\n",
              "      <progress value='105070592' class='' max='105067061' style='width:300px; height:20px; vertical-align: middle;'></progress>\n",
              "      100.00% [105070592/105067061 00:01<00:00]\n",
              "    </div>\n",
              "    "
            ],
            "text/plain": [
              "<IPython.core.display.HTML object>"
            ]
          },
          "metadata": {}
        }
      ]
    },
    {
      "cell_type": "markdown",
      "metadata": {
        "id": "RhArNpGO3qC1"
      },
      "source": [
        "*What does our model look like?*"
      ]
    },
    {
      "cell_type": "code",
      "metadata": {
        "colab": {
          "base_uri": "https://localhost:8080/"
        },
        "id": "vv28A4U1fPkS",
        "outputId": "d8ea3ebe-d927-42f0-b792-e83ec7b82932"
      },
      "source": [
        "learn.model"
      ],
      "execution_count": null,
      "outputs": [
        {
          "output_type": "execute_result",
          "data": {
            "text/plain": [
              "SequentialRNN(\n",
              "  (0): AWD_LSTM(\n",
              "    (encoder): Embedding(29632, 400, padding_idx=1)\n",
              "    (encoder_dp): EmbeddingDropout(\n",
              "      (emb): Embedding(29632, 400, padding_idx=1)\n",
              "    )\n",
              "    (rnns): ModuleList(\n",
              "      (0): WeightDropout(\n",
              "        (module): LSTM(400, 1152, batch_first=True)\n",
              "      )\n",
              "      (1): WeightDropout(\n",
              "        (module): LSTM(1152, 1152, batch_first=True)\n",
              "      )\n",
              "      (2): WeightDropout(\n",
              "        (module): LSTM(1152, 400, batch_first=True)\n",
              "      )\n",
              "    )\n",
              "    (input_dp): RNNDropout()\n",
              "    (hidden_dps): ModuleList(\n",
              "      (0): RNNDropout()\n",
              "      (1): RNNDropout()\n",
              "      (2): RNNDropout()\n",
              "    )\n",
              "  )\n",
              "  (1): LinearDecoder(\n",
              "    (decoder): Linear(in_features=400, out_features=29632, bias=True)\n",
              "    (output_dp): RNNDropout()\n",
              "  )\n",
              ")"
            ]
          },
          "metadata": {},
          "execution_count": 15
        }
      ]
    },
    {
      "cell_type": "markdown",
      "metadata": {
        "id": "iFFzpK194tjW"
      },
      "source": [
        "Let's fine-tune our language model. \n",
        "\n",
        "Initially, only the randomly initialized embeddings in the model are trained. Later, we unfreeze the whole model and fine-tune it on our dataset. "
      ]
    },
    {
      "cell_type": "code",
      "metadata": {
        "colab": {
          "base_uri": "https://localhost:8080/",
          "height": 79
        },
        "id": "yTYVt8gtv2T4",
        "outputId": "a8531d3c-b381-413c-bcda-9d9fea126d70"
      },
      "source": [
        "learn.fit_one_cycle(1, 2e-2)"
      ],
      "execution_count": null,
      "outputs": [
        {
          "output_type": "display_data",
          "data": {
            "text/html": [
              "<table border=\"1\" class=\"dataframe\">\n",
              "  <thead>\n",
              "    <tr style=\"text-align: left;\">\n",
              "      <th>epoch</th>\n",
              "      <th>train_loss</th>\n",
              "      <th>valid_loss</th>\n",
              "      <th>accuracy</th>\n",
              "      <th>perplexity</th>\n",
              "      <th>time</th>\n",
              "    </tr>\n",
              "  </thead>\n",
              "  <tbody>\n",
              "    <tr>\n",
              "      <td>0</td>\n",
              "      <td>3.988807</td>\n",
              "      <td>3.822652</td>\n",
              "      <td>0.322697</td>\n",
              "      <td>45.725304</td>\n",
              "      <td>07:07</td>\n",
              "    </tr>\n",
              "  </tbody>\n",
              "</table>"
            ],
            "text/plain": [
              "<IPython.core.display.HTML object>"
            ]
          },
          "metadata": {}
        }
      ]
    },
    {
      "cell_type": "markdown",
      "metadata": {
        "id": "SoQPOyUy5tDf"
      },
      "source": [
        "This model takes a while to train, so we can save intermediary results and resume training later also. "
      ]
    },
    {
      "cell_type": "code",
      "metadata": {
        "id": "ni9Faotiy9s9"
      },
      "source": [
        "learn.save('1epoch')"
      ],
      "execution_count": null,
      "outputs": []
    },
    {
      "cell_type": "markdown",
      "metadata": {
        "id": "kM519inN6WNL"
      },
      "source": [
        "Now, we unfreeze the whole model and fine-tune on our dataset."
      ]
    },
    {
      "cell_type": "code",
      "metadata": {
        "id": "RRjYZbM7zHN3",
        "colab": {
          "base_uri": "https://localhost:8080/",
          "height": 649
        },
        "outputId": "8d2bf9df-066e-418e-c2ef-41b470c5bb8d"
      },
      "source": [
        "learn.unfreeze()\n",
        "learn.fit_one_cycle(10,2e-3)"
      ],
      "execution_count": null,
      "outputs": [
        {
          "data": {
            "text/html": [
              "\n",
              "    <div>\n",
              "        <style>\n",
              "            /* Turns off some styling */\n",
              "            progress {\n",
              "                /* gets rid of default border in Firefox and Opera. */\n",
              "                border: none;\n",
              "                /* Needs to be in here for Safari polyfill so background images work as expected. */\n",
              "                background-size: auto;\n",
              "            }\n",
              "            .progress-bar-interrupted, .progress-bar-interrupted::-webkit-progress-bar {\n",
              "                background: #F44336;\n",
              "            }\n",
              "        </style>\n",
              "      <progress value='7' class='' max='10' style='width:300px; height:20px; vertical-align: middle;'></progress>\n",
              "      70.00% [7/10 57:39<24:42]\n",
              "    </div>\n",
              "    \n",
              "<table border=\"1\" class=\"dataframe\">\n",
              "  <thead>\n",
              "    <tr style=\"text-align: left;\">\n",
              "      <th>epoch</th>\n",
              "      <th>train_loss</th>\n",
              "      <th>valid_loss</th>\n",
              "      <th>accuracy</th>\n",
              "      <th>perplexity</th>\n",
              "      <th>time</th>\n",
              "    </tr>\n",
              "  </thead>\n",
              "  <tbody>\n",
              "    <tr>\n",
              "      <td>0</td>\n",
              "      <td>3.564608</td>\n",
              "      <td>3.685261</td>\n",
              "      <td>0.340693</td>\n",
              "      <td>39.855534</td>\n",
              "      <td>08:13</td>\n",
              "    </tr>\n",
              "    <tr>\n",
              "      <td>1</td>\n",
              "      <td>3.405877</td>\n",
              "      <td>3.544592</td>\n",
              "      <td>0.361780</td>\n",
              "      <td>34.625568</td>\n",
              "      <td>08:16</td>\n",
              "    </tr>\n",
              "    <tr>\n",
              "      <td>2</td>\n",
              "      <td>3.130898</td>\n",
              "      <td>3.344503</td>\n",
              "      <td>0.396509</td>\n",
              "      <td>28.346476</td>\n",
              "      <td>08:11</td>\n",
              "    </tr>\n",
              "    <tr>\n",
              "      <td>3</td>\n",
              "      <td>2.818751</td>\n",
              "      <td>3.214522</td>\n",
              "      <td>0.423163</td>\n",
              "      <td>24.891394</td>\n",
              "      <td>08:11</td>\n",
              "    </tr>\n",
              "    <tr>\n",
              "      <td>4</td>\n",
              "      <td>2.549970</td>\n",
              "      <td>3.148916</td>\n",
              "      <td>0.445709</td>\n",
              "      <td>23.310781</td>\n",
              "      <td>08:14</td>\n",
              "    </tr>\n",
              "    <tr>\n",
              "      <td>5</td>\n",
              "      <td>2.310829</td>\n",
              "      <td>3.079806</td>\n",
              "      <td>0.463686</td>\n",
              "      <td>21.754183</td>\n",
              "      <td>08:16</td>\n",
              "    </tr>\n",
              "    <tr>\n",
              "      <td>6</td>\n",
              "      <td>2.067275</td>\n",
              "      <td>3.047312</td>\n",
              "      <td>0.476157</td>\n",
              "      <td>21.058668</td>\n",
              "      <td>08:16</td>\n",
              "    </tr>\n",
              "  </tbody>\n",
              "</table><p>\n",
              "\n",
              "    <div>\n",
              "        <style>\n",
              "            /* Turns off some styling */\n",
              "            progress {\n",
              "                /* gets rid of default border in Firefox and Opera. */\n",
              "                border: none;\n",
              "                /* Needs to be in here for Safari polyfill so background images work as expected. */\n",
              "                background-size: auto;\n",
              "            }\n",
              "            .progress-bar-interrupted, .progress-bar-interrupted::-webkit-progress-bar {\n",
              "                background: #F44336;\n",
              "            }\n",
              "        </style>\n",
              "      <progress value='161' class='' max='250' style='width:300px; height:20px; vertical-align: middle;'></progress>\n",
              "      64.40% [161/250 04:48<02:39 1.9220]\n",
              "    </div>\n",
              "    "
            ],
            "text/plain": [
              "<IPython.core.display.HTML object>"
            ]
          },
          "metadata": {},
          "output_type": "display_data"
        },
        {
          "output_type": "display_data",
          "data": {
            "text/html": [
              "<table border=\"1\" class=\"dataframe\">\n",
              "  <thead>\n",
              "    <tr style=\"text-align: left;\">\n",
              "      <th>epoch</th>\n",
              "      <th>train_loss</th>\n",
              "      <th>valid_loss</th>\n",
              "      <th>accuracy</th>\n",
              "      <th>perplexity</th>\n",
              "      <th>time</th>\n",
              "    </tr>\n",
              "  </thead>\n",
              "  <tbody>\n",
              "    <tr>\n",
              "      <td>0</td>\n",
              "      <td>3.564608</td>\n",
              "      <td>3.685261</td>\n",
              "      <td>0.340693</td>\n",
              "      <td>39.855534</td>\n",
              "      <td>08:13</td>\n",
              "    </tr>\n",
              "    <tr>\n",
              "      <td>1</td>\n",
              "      <td>3.405877</td>\n",
              "      <td>3.544592</td>\n",
              "      <td>0.361780</td>\n",
              "      <td>34.625568</td>\n",
              "      <td>08:16</td>\n",
              "    </tr>\n",
              "    <tr>\n",
              "      <td>2</td>\n",
              "      <td>3.130898</td>\n",
              "      <td>3.344503</td>\n",
              "      <td>0.396509</td>\n",
              "      <td>28.346476</td>\n",
              "      <td>08:11</td>\n",
              "    </tr>\n",
              "    <tr>\n",
              "      <td>3</td>\n",
              "      <td>2.818751</td>\n",
              "      <td>3.214522</td>\n",
              "      <td>0.423163</td>\n",
              "      <td>24.891394</td>\n",
              "      <td>08:11</td>\n",
              "    </tr>\n",
              "    <tr>\n",
              "      <td>4</td>\n",
              "      <td>2.549970</td>\n",
              "      <td>3.148916</td>\n",
              "      <td>0.445709</td>\n",
              "      <td>23.310781</td>\n",
              "      <td>08:14</td>\n",
              "    </tr>\n",
              "    <tr>\n",
              "      <td>5</td>\n",
              "      <td>2.310829</td>\n",
              "      <td>3.079806</td>\n",
              "      <td>0.463686</td>\n",
              "      <td>21.754183</td>\n",
              "      <td>08:16</td>\n",
              "    </tr>\n",
              "    <tr>\n",
              "      <td>6</td>\n",
              "      <td>2.067275</td>\n",
              "      <td>3.047312</td>\n",
              "      <td>0.476157</td>\n",
              "      <td>21.058668</td>\n",
              "      <td>08:16</td>\n",
              "    </tr>\n",
              "    <tr>\n",
              "      <td>7</td>\n",
              "      <td>1.911285</td>\n",
              "      <td>3.047159</td>\n",
              "      <td>0.483040</td>\n",
              "      <td>21.055450</td>\n",
              "      <td>08:15</td>\n",
              "    </tr>\n",
              "    <tr>\n",
              "      <td>8</td>\n",
              "      <td>1.767257</td>\n",
              "      <td>3.063684</td>\n",
              "      <td>0.486353</td>\n",
              "      <td>21.406282</td>\n",
              "      <td>08:23</td>\n",
              "    </tr>\n",
              "    <tr>\n",
              "      <td>9</td>\n",
              "      <td>1.735494</td>\n",
              "      <td>3.073252</td>\n",
              "      <td>0.486495</td>\n",
              "      <td>21.612070</td>\n",
              "      <td>08:13</td>\n",
              "    </tr>\n",
              "  </tbody>\n",
              "</table>"
            ],
            "text/plain": [
              "<IPython.core.display.HTML object>"
            ]
          },
          "metadata": {}
        }
      ]
    },
    {
      "cell_type": "markdown",
      "metadata": {
        "id": "BcFf9DQM6giC"
      },
      "source": [
        "We need to save this model for later. We save all of our model except the final layer that converts activations to probabilities of picking each token in our vocabulary. The model not including the final layer is called the encoder. We can also save the complete model to use it tasks like text generation. \n"
      ]
    },
    {
      "cell_type": "code",
      "metadata": {
        "id": "cqByRalMzfeW"
      },
      "source": [
        "learn.save_encoder('finetuned_lm')\n",
        "learn.export('models/language_model.pkl')"
      ],
      "execution_count": null,
      "outputs": []
    },
    {
      "cell_type": "markdown",
      "metadata": {
        "id": "eKEC0zRl_j1C"
      },
      "source": [
        "## Conclusion\n",
        " In this notebook, we created our language model. Using this model, we will build a multi-label classifier that can predict the genres a book belongs to. In the next notebook, we will dive deep into the data and try to find some interesting patterns."
      ]
    }
  ]
}
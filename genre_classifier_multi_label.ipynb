{
  "nbformat": 4,
  "nbformat_minor": 0,
  "metadata": {
    "colab": {
      "name": "genre_classifier_multi_label.ipynb",
      "provenance": [],
      "collapsed_sections": []
    },
    "kernelspec": {
      "name": "python3",
      "display_name": "Python 3"
    },
    "language_info": {
      "name": "python"
    },
    "accelerator": "GPU"
  },
  "cells": [
    {
      "cell_type": "markdown",
      "metadata": {
        "id": "CTbM45oCUBms"
      },
      "source": [
        "# Judging Books By Their Cover Part 3: Multi-Label Classifier"
      ]
    },
    {
      "cell_type": "markdown",
      "metadata": {
        "id": "UjQItxH38OGa"
      },
      "source": [
        "Welcome to Part-3 of the project, \"Judging Books By Their Cover\". In this notebook, we will create our multi-label genre classifier.\n",
        "\n",
        "**What is multi-label classification?**\n",
        "\n",
        "Multi-label classification refers to the problem of identifying the categories for input data that may belong to multiple categories simultaneously. There may be more than one label for the input data, or there may be no matching labels at all. This approach is excellent for problems like genre classification, where each input text represents a unique blend of different genres. Furthermore, the flexibility of this approach allows us to take care of situations where the input data does not belong to any of the categories in the dataset. This saves us from generating wrong predictions which can be misleading or harmful.\n",
        "\n",
        "So, let's get started!!!\n"
      ]
    },
    {
      "cell_type": "markdown",
      "metadata": {
        "id": "Di0qtGz575nk"
      },
      "source": [
        "## Setup"
      ]
    },
    {
      "cell_type": "markdown",
      "metadata": {
        "id": "nMOERgIX7b-O"
      },
      "source": [
        "Mounting Google Drive"
      ]
    },
    {
      "cell_type": "code",
      "metadata": {
        "colab": {
          "base_uri": "https://localhost:8080/"
        },
        "id": "QK0tC6b4xqJL",
        "outputId": "7c390ef7-2215-4f3a-be8e-badcbc07087e"
      },
      "source": [
        "from google.colab import drive\n",
        "drive.mount('/content/gdrive')"
      ],
      "execution_count": null,
      "outputs": [
        {
          "output_type": "stream",
          "name": "stdout",
          "text": [
            "Mounted at /content/gdrive\n"
          ]
        }
      ]
    },
    {
      "cell_type": "markdown",
      "metadata": {
        "id": "AXlpNbYpdT54"
      },
      "source": [
        "*Where is the dataset?*\n"
      ]
    },
    {
      "cell_type": "code",
      "metadata": {
        "colab": {
          "base_uri": "https://localhost:8080/"
        },
        "id": "u52GQxTVlssU",
        "outputId": "d11a1ca4-967d-4354-9aba-716b65ac2e03"
      },
      "source": [
        "import os\n",
        "os.environ['KAGGLE_CONFIG_DIR'] = \"/content/gdrive/My Drive/kaggle/GenreClassification\" \n",
        "%cd /content/gdrive/My Drive/kaggle/GenreClassification"
      ],
      "execution_count": null,
      "outputs": [
        {
          "output_type": "stream",
          "name": "stdout",
          "text": [
            "/content/gdrive/My Drive/kaggle/GenreClassification\n"
          ]
        }
      ]
    },
    {
      "cell_type": "markdown",
      "metadata": {
        "id": "kDVlGZYF8DXF"
      },
      "source": [
        "*What's in the directory?*"
      ]
    },
    {
      "cell_type": "code",
      "metadata": {
        "colab": {
          "base_uri": "https://localhost:8080/"
        },
        "id": "u5z93ByKSU9r",
        "outputId": "b25a4080-8258-4304-f01b-ae7f92d2e189"
      },
      "source": [
        "!ls"
      ],
      "execution_count": null,
      "outputs": [
        {
          "output_type": "stream",
          "name": "stdout",
          "text": [
            "book_data.csv\t\t\t     sf_cyberpunk.csv\n",
            "dls_lm.pickle\t\t\t     sf_dystopia.csv\n",
            "kaggle.json\t\t\t     sf_hard.csv\n",
            "models\t\t\t\t     sf_military.csv\n",
            "science-fiction-books-subgenres.zip  sf_robots.csv\n",
            "sf_aliens.csv\t\t\t     sf_space_opera.csv\n",
            "sf_alternate_history.csv\t     sf_steampunk.csv\n",
            "sf_alternate_universe.csv\t     sf_time_travel.csv\n",
            "sf_apocalyptic.csv\t\t     Wordcloud.png\n"
          ]
        }
      ]
    },
    {
      "cell_type": "markdown",
      "metadata": {
        "id": "Xhbl8Da7NUiG"
      },
      "source": [
        "Let's install the updated version of FastAI"
      ]
    },
    {
      "cell_type": "code",
      "metadata": {
        "id": "Tb3IgprEDPzF",
        "colab": {
          "base_uri": "https://localhost:8080/"
        },
        "outputId": "961a41f1-ed39-49be-c6e5-445f3b8867e0"
      },
      "source": [
        "! [ -e /content ] && pip install -Uqq fastai"
      ],
      "execution_count": null,
      "outputs": [
        {
          "output_type": "stream",
          "name": "stdout",
          "text": [
            "\u001b[K     |████████████████████████████████| 186 kB 5.2 MB/s \n",
            "\u001b[K     |████████████████████████████████| 56 kB 3.8 MB/s \n",
            "\u001b[?25h"
          ]
        }
      ]
    },
    {
      "cell_type": "markdown",
      "metadata": {
        "id": "IhZhxYUhJObN"
      },
      "source": [
        "## Data Preprocessing"
      ]
    },
    {
      "cell_type": "markdown",
      "metadata": {
        "id": "bfCuZTOOSTdm"
      },
      "source": [
        "To build our multi-label classifier, we need to first preprocess the data and create the dataloader. After the dataloader is created, we can use the language model built in Part-1 to create our custom classifier. \n",
        "\n",
        "First, let's import  the essential libraries"
      ]
    },
    {
      "cell_type": "code",
      "metadata": {
        "id": "Epc59holo4tG"
      },
      "source": [
        "import ast\n",
        "import pandas as pd\n",
        "from fastai.text.all import *"
      ],
      "execution_count": null,
      "outputs": []
    },
    {
      "cell_type": "markdown",
      "metadata": {
        "id": "W_tP8hz6ZBk7"
      },
      "source": [
        "Loading the dataset"
      ]
    },
    {
      "cell_type": "code",
      "metadata": {
        "id": "zrpJJ8omD0-6"
      },
      "source": [
        "book_data=pd.read_csv('book_data.csv')"
      ],
      "execution_count": null,
      "outputs": []
    },
    {
      "cell_type": "markdown",
      "metadata": {
        "id": "d2_76qYVphA0"
      },
      "source": [
        "*How many labels do we actually have?*"
      ]
    },
    {
      "cell_type": "code",
      "metadata": {
        "colab": {
          "base_uri": "https://localhost:8080/"
        },
        "id": "mHyI8E3opbhe",
        "outputId": "005cbcbf-1b8d-4601-dc8e-c9717cdd76b3"
      },
      "source": [
        "labels=list()\n",
        "for i in book_data.iterrows():\n",
        "    dict_genre= ast.literal_eval(i[1]['Genres']) #dictionaries are already sorted\n",
        "    labels.extend(list(dict_genre.keys()))\n",
        "print(f\"We have {len(set(labels))} labels\")        "
      ],
      "execution_count": null,
      "outputs": [
        {
          "output_type": "stream",
          "name": "stdout",
          "text": [
            "We have 524 labels\n"
          ]
        }
      ]
    },
    {
      "cell_type": "markdown",
      "metadata": {
        "id": "9PlbDmyx9GMX"
      },
      "source": [
        "*How many times is each genre mentioned?*"
      ]
    },
    {
      "cell_type": "code",
      "metadata": {
        "id": "HWyvLF_l9Q3u",
        "colab": {
          "base_uri": "https://localhost:8080/"
        },
        "outputId": "f536a595-6cb7-49b8-bde5-2ad9063c1f80"
      },
      "source": [
        "counts = {}\n",
        "for n in labels:\n",
        "    counts[n] = counts.get(n, 0) + 1\n",
        "print(counts)"
      ],
      "execution_count": null,
      "outputs": [
        {
          "output_type": "stream",
          "name": "stdout",
          "text": [
            "{'Fantasy': 11118, 'Young Adult': 3924, 'Science Fiction (Dystopia) ': 4018, 'Fiction': 12609, 'Young Adult (Young Adult Fantasy) ': 643, 'Science Fiction': 12248, 'Audiobook': 4248, 'Mystery': 1780, 'Family': 65, 'Young Adult (Teen) ': 959, 'War (Military Fiction) ': 1905, 'Science Fiction (Military Science Fiction) ': 1568, 'Space (Space Opera) ': 2988, 'Science Fiction (Alternate History) ': 1465, 'Space': 2744, 'Science Fiction (Hard Science Fiction) ': 427, 'Science Fiction Fantasy': 5617, 'Action': 928, 'Sequential Art (Graphic Novels) ': 938, 'Sequential Art (Comics) ': 919, 'Horror': 1475, 'Historical (Historical Fiction) ': 2346, 'Graphic Novels Comics': 554, 'Comics (Comic Book) ': 452, 'Historical': 1960, 'Thriller': 1220, 'Suspense': 237, 'Novels': 1671, 'Adventure': 4142, 'Thriller (Mystery Thriller) ': 168, 'Sequential Art (Manga) ': 256, 'Science Fiction (Cyberpunk) ': 1233, 'Manga (Seinen) ': 87, 'Comics Manga': 141, 'Novella': 582, 'Short Stories': 1096, 'Artificial Intelligence': 222, 'Adult Fiction': 276, 'Speculative Fiction': 2267, 'Adult': 2298, 'Science Fiction (Steampunk) ': 1696, 'Romance (Paranormal Romance) ': 1205, 'Anthologies': 414, 'Romance': 4547, 'Fantasy (Paranormal) ': 2788, 'Fantasy (Urban Fantasy) ': 1308, 'Paranormal (Shapeshifters) ': 251, 'Horror (Zombies) ': 572, 'Science Fiction (Aliens) ': 2434, 'Science Fiction R... (Steampunk Romance) ': 28, 'Retellings': 219, 'Fantasy (Magic) ': 1521, 'Fantasy (Fairy Tales) ': 178, 'Apocalyptic (Post Apocalyptic) ': 2048, 'Science Fiction (Apocalyptic) ': 1087, 'Science Fiction (Time Travel) ': 1823, 'LGBT': 729, 'Adventure (Survival) ': 400, 'Futuristic': 474, 'Young Adult (Young Adult Romance) ': 16, 'Humor': 845, 'Horror (Lovecraftian) ': 21, 'Spy Thriller (Espionage) ': 55, 'Romance (Historical Romance) ': 497, 'Romance (M M Romance) ': 326, 'Adult Fiction (Erotica) ': 658, 'Romance (Science Fiction Romance) ': 700, 'Romance (Erotic Romance) ': 138, 'Media Tie In': 165, 'Paranormal (Vampires) ': 501, 'Shapeshifters (Werewolves) ': 127, 'Fantasy (Mythology) ': 137, 'Classics': 803, 'Fantasy (High Fantasy) ': 359, 'Fantasy (Epic Fantasy) ': 181, 'Paranormal (Angels) ': 98, 'War': 1115, 'Humor (Comedy) ': 206, 'Mystery (Detective) ': 76, 'Westerns': 144, 'Fantasy (Supernatural) ': 511, 'GLBT (Queer) ': 309, 'LGBT (Gay) ': 128, 'Fantasy (Dark Fantasy) ': 46, 'Paranormal (Ghosts) ': 68, 'Young Adult (High School) ': 29, 'Contemporary': 533, 'Paranormal (Demons) ': 84, 'Business (Amazon) ': 410, 'Historical Fiction (Historical Fantasy) ': 221, 'Fairies (Fae) ': 119, 'Paranormal (Fairies) ': 42, 'Philosophy': 158, 'European Literature (Polish Literature) ': 24, 'Writing (Essays) ': 19, 'Literature': 305, 'Unfinished': 103, 'Literature (American) ': 199, 'Mystery (Crime) ': 320, 'Anthologies (Collections) ': 187, 'Fantasy (Dragons) ': 243, 'Christian Fiction': 54, 'Christian': 55, 'Science Fiction (Robots) ': 682, 'Pseudoscience (Conspiracy Theories) ': 7, 'Magical Realism': 123, 'Epic': 102, 'Womens Fiction (Chick Lit) ': 81, 'European Literature (British Literature) ': 130, 'Childrens (Picture Books) ': 166, 'Academic (School) ': 83, 'Childrens': 814, 'Childrens (Juvenile) ': 195, 'Academic (Teachers) ': 1, 'Cultural (Canada) ': 135, 'Religion': 110, 'Science Fiction (Alternate Universe) ': 52, 'Historical (Regency) ': 48, 'Science (Mathematics) ': 17, 'Science (Physics) ': 19, 'Politics': 164, 'Sequential Art': 22, 'History': 49, 'Science': 87, 'Nonfiction': 125, 'Biography': 16, 'Gothic': 41, 'Cultural (Japan) ': 88, 'War (Terrorism) ': 7, 'Science (Astronomy) ': 13, 'Music': 25, 'Literature (21st Century) ': 15, 'War (World War II) ': 82, 'North American Hi... (American History) ': 11, 'Banking (Banks) ': 25, 'None': 65, 'Feminism': 101, 'Polyamorous (Reverse Harem) ': 46, 'Romance (M F Romance) ': 103, 'Mystery (Noir) ': 57, 'Cultural (Australia) ': 28, 'Realistic Fiction': 29, 'Romance (Romantic Suspense) ': 17, 'Romance (Time Travel Romance) ': 230, 'Adventure (Pirates) ': 68, 'Young Adult (Young Adult Science Fiction) ': 84, 'Media Tie In (Star Wars) ': 154, 'Erotica (Menage) ': 122, 'Menage (M F M) ': 28, 'Science Fiction (Near Future) ': 74, 'Fantasy (Weird Fiction) ': 46, 'Weird Fiction (New Weird) ': 41, 'History (Archaeology) ': 3, 'Childrens (Middle Grade) ': 629, 'LGBT (Transgender) ': 10, 'Sequential Art (Webcomic) ': 39, 'Literary Fiction': 146, 'Culture (Film) ': 19, 'European Literature (German Literature) ': 26, 'Paranormal (Witches) ': 99, 'GLBT (Lesbian) ': 28, 'Animals (Dinosaurs) ': 24, 'Superheroes (Marvel) ': 50, 'New Adult': 188, 'Sequential Art (Bande Dessinée) ': 37, 'Literature (20th Century) ': 103, 'Young Adult (Coming Of Age) ': 35, 'Writing (Books About Books) ': 84, 'Games (Role Playing Games) ': 67, 'Games (Gaming) ': 55, 'Romance (Fantasy Romance) ': 97, 'Pulp': 32, 'Comics (Superheroes) ': 156, 'Yaoi (Boys Love) ': 8, 'Childrens (Storytime) ': 69, 'Environment (Nature) ': 14, 'Kids': 14, 'Science (Technology) ': 164, 'Cultural (China) ': 40, '40k': 100, 'Historical (Victorian) ': 65, 'Animals (Cats) ': 23, 'Animals': 123, 'Military History (Civil War) ': 26, 'Environment (Climate Change) ': 12, 'Science Fiction (Climate Change Fiction) ': 16, 'New York': 18, 'Paranormal (Omegaverse) ': 31, 'Menage (M M M) ': 16, 'Polyamory': 9, 'Sociology (Abuse) ': 66, 'Academic (College) ': 14, 'Romance (Contemporary Romance) ': 92, 'Womens': 12, 'Gender': 12, 'Canon': 3, 'Erotica (BDSM) ': 115, 'Reference': 42, 'How To': 5, 'Environment': 20, 'Environment (Sustainability) ': 2, 'Biology (Ecology) ': 6, 'Humanities (Language) ': 14, 'Humanities (Linguistics) ': 3, 'M M Romance (M M Fantasy) ': 18, 'Games (Video Games) ': 40, 'Sports and Games (Games) ': 41, 'Science Fiction R... (Futuristic Romance) ': 11, 'Cultural (France) ': 46, 'European Literature (French Literature) ': 10, 'Cultural (Africa) ': 37, 'Criticism': 5, 'Animals (Horses) ': 7, 'Hugo Awards': 96, 'Childrens (Chapter Books) ': 54, 'Autobiography (Memoir) ': 5, 'Biography (Autobiography) ': 5, 'Language (Writing) ': 9, 'Pop Culture (Nerd) ': 4, 'Historical (Medieval) ': 87, 'Cultural (Russia) ': 48, 'Literature (Russian Literature) ': 22, 'Holiday (Christmas) ': 25, 'Holiday': 18, 'European Literature (Dutch Literature) ': 1, 'Self Help': 1, 'Culture (Pop Culture) ': 5, 'Historical Romance (Medieval Romance) ': 12, 'Astronomy (Planets) ': 26, 'Manga (Shonen) ': 32, 'Sequential Art (Comix) ': 43, 'Food and Drink (Cookbooks) ': 1, 'Food and Drink (Cooking) ': 1, 'Food and Drink': 1, 'Food and Drink (Food) ': 4, 'Alcohol (Cocktails) ': 1, 'M M Romance (M M Contemporary) ': 2, 'Psychology': 16, 'Science (Biology) ': 8, 'Biology (Neuroscience) ': 1, 'Science (Natural History) ': 2, 'Economics': 18, 'Military (Military History) ': 15, 'Fairy Tales (Beauty and The Beast) ': 18, 'Fairy Tales (Fairy Tale Retellings) ': 19, 'Religion (Christianity) ': 17, 'Religion (Faith) ': 12, 'Spirituality': 17, 'Sociology': 12, 'Cultural': 45, 'Relationships': 6, 'Culture (Society) ': 3, 'Anthropology': 7, 'Academic (Read For School) ': 18, 'Plays': 16, 'Drama': 35, 'Cultural (Scotland) ': 83, 'Young Adult (Young Adult Contemporary) ': 17, 'European Literature (Finnish Literature) ': 4, 'Menage (M M F) ': 15, 'Westerns (Weird West) ': 22, 'Christianity (Catholic) ': 1, 'Dark': 103, 'Death': 18, 'Classics (Modern Classics) ': 5, 'Disability': 14, 'Superheroes (Dc Comics) ': 32, 'Media Tie In (Tv) ': 17, 'Media Tie In (Doctor Who) ': 36, 'Media Tie In (Star Trek) ': 8, 'Short Stories (Short Story Collection) ': 37, 'Cultural (Germany) ': 12, 'Roman': 12, 'Computer Science (Coding) ': 6, 'Singularity': 46, 'Cultural (African American) ': 29, 'Fantasy (Unicorns) ': 11, 'Modern': 2, 'Young Adult (Young Adult Paranormal) ': 5, 'Animals (Dogs) ': 14, 'Science (Computer Science) ': 17, 'Historical Fiction (Prehistoric) ': 3, 'Love': 20, 'Surreal': 4, 'M M Romance (M M Paranormal) ': 10, 'Military History (American Revolution) ': 5, 'Asian Literature (Japanese Literature) ': 51, 'Graphic Novels Manga': 15, 'Cultural (India) ': 9, 'European Literature (Spanish Literature) ': 7, 'Cultural (Spain) ': 3, 'Futurism': 20, 'Fan Fiction': 3, 'Sexuality': 6, 'European Literature (Italian Literature) ': 2, 'Cultural (Italy) ': 7, 'Cultural (Ireland) ': 11, 'Computer Science (Computers) ': 23, 'Sports (Sports) ': 13, 'Football': 2, 'Media Tie In (Anime) ': 8, 'Sports (Baseball) ': 4, 'Heroic Fantasy (Sword and Sorcery) ': 3, 'World War II (Holocaust) ': 6, 'Literature (Jewish) ': 13, 'Science Fiction (Virtual Reality) ': 23, 'Cultural (Asia) ': 25, 'Folklore (Monsters) ': 9, 'Gamebooks (Choose Your Own Adventure) ': 3, 'Games (Gamebooks) ': 3, 'Biology (Genetics) ': 1, 'Art': 44, 'Art (Crafts) ': 7, 'Couture (Fashion) ': 7, 'Design': 2, 'Reference (Research) ': 5, 'Art and Photography': 1, 'M M Romance (M M Historical Romance) ': 4, 'Marvel (X Men) ': 6, 'Childrens (1st Grade) ': 5, 'Biology (Evolution) ': 10, 'Race': 22, 'Own': 20, 'Egypt (Alexandria) ': 1, 'Animals (Birds) ': 3, 'Mythology (Mermaids) ': 11, 'Mythology (Arthurian) ': 11, 'Romance (Clean Romance) ': 19, 'Culture (Cultural Studies) ': 2, 'Science (History Of Science) ': 1, 'War (World War I) ': 6, 'Science (Popular Science) ': 13, 'Science (Engineering) ': 9, 'M M Romance (M M Science Fiction) ': 21, 'Computers (Hackers) ': 9, 'Computer Science (Technical) ': 1, 'Computer Science (Programming) ': 4, 'Crime (True Crime) ': 3, 'Business': 13, 'Dc Comics (Batman) ': 9, 'Cultural (Poland) ': 14, 'M M Paranormal (M M Shapeshifters) ': 1, 'Book Club': 18, 'Warriors': 8, 'Gay Romance (Gay For You) ': 10, 'Western Africa (Nigeria) ': 4, 'The United States Of America': 21, 'Military History (Naval History) ': 6, 'Religion (Cults) ': 5, 'Literature (Asian Literature) ': 16, 'Literature (19th Century) ': 28, 'Health (Mental Health) ': 19, 'Travel': 29, 'LGBT (Asexual) ': 4, 'Social Movements (Social Justice) ': 2, 'Mythology (Greek Mythology) ': 15, 'Comics Bd': 1, 'Dungeons and Dragons (Dragonlance) ': 1, 'Mental Health (Mental Illness) ': 11, 'Religion (Atheism) ': 1, 'Lds (Lds Fiction) ': 2, 'Horror (Bizarro Fiction) ': 5, 'Romance (Love Story) ': 1, 'American History (American Civil War) ': 8, 'Romance (Western Romance) ': 5, 'Sci Fi Fantasy': 24, 'History (World History) ': 4, 'Childrens (Pre K) ': 3, 'Western Africa (Ghana) ': 1, 'United States': 7, 'Travel (Road Trip) ': 2, 'Childrens (Young Readers) ': 2, 'Medical': 15, 'Science Fiction (Dying Earth) ': 4, 'Philosophy (Theory) ': 6, 'Science Fiction (Planetary Romance) ': 11, 'Mythology (Gods) ': 7, 'Poetry': 19, 'Amish': 4, 'Holiday (Halloween) ': 2, 'Biography Memoir': 4, 'Political Science (International Relations) ': 1, 'Mystery (Historical Mystery) ': 15, 'Biography (Adventurers) ': 1, 'Fantasy (Heroic Fantasy) ': 3, 'Lovecraftian (Cthulhu Mythos) ': 4, 'Wildlife': 2, 'Academic': 4, 'Animals (Rabbits) ': 2, 'Gardening': 1, 'Art (Art Design) ': 1, 'Cultural (Counter Culture) ': 1, 'Paranormal (Esp) ': 2, 'Doctors': 2, 'Music (Punk) ': 2, 'Criticism (Literary Criticism) ': 4, 'Menage (Multiple Partners) ': 4, 'Inspirational': 1, 'Pop Culture (Geek) ': 1, 'Novels (Light Novel) ': 15, 'Manga (Shojo) ': 9, 'English History (Tudor Period) ': 6, 'Combat (Martial Arts) ': 1, 'Cultural (Israel) ': 2, 'American (Americana) ': 3, 'Number (Counting) ': 2, 'Emergency Services (Police) ': 1, 'School Stories (Boarding School) ': 10, 'Romance (Interracial Romance) ': 4, 'Cultural (Portugal) ': 3, 'European Literature (Portuguese Literature) ': 3, 'Nobel Prize': 1, 'Fairy Tales (Princesses) ': 1, 'LGBT (Bisexual) ': 2, 'Politics (Presidents) ': 3, 'Railways (Trains) ': 1, 'Transport': 2, 'Fantasy (Low Fantasy) ': 1, 'Classics (Classic Literature) ': 5, 'Literature (Ancient) ': 4, 'Romantic': 2, 'Transport (Cars) ': 1, 'Science Fiction (Utopia) ': 9, 'Historical Romance (Regency Romance) ': 3, 'Terrorism (Islamic Terrorism) ': 2, 'Asian Literature (Chinese Literature) ': 3, 'Education': 2, 'Queer (Queer Lit) ': 2, 'Science Fiction (Sword and Planet) ': 4, 'History (Medieval History) ': 1, 'Literature (14th Century) ': 1, 'History (European History) ': 1, 'Religion (Taoism) ': 1, 'European Literature (Irish Literature) ': 2, 'Dc Comics (Superman) ': 5, 'Jewellery': 1, 'Crafts (Jewellery Making) ': 1, 'Crafts (Beading) ': 1, 'Manga (Josei) ': 11, 'Medieval Romance (Viking Romance) ': 4, 'Thriller (Psychological Thriller) ': 1, 'Horror (Victor Frankenstein) ': 1, 'Northern Africa (Egypt) ': 4, 'Star Trek (Star Trek Original Series) ': 1, 'Health': 1, 'Literature (16th Century) ': 4, 'Psychology (Growth Mindset) ': 2, 'Fantasy (Elves) ': 3, 'Social Science': 1, 'Horror (Splatterpunk) ': 2, 'Gaming (Gaming Fiction) ': 5, 'Aircraft (Airships) ': 3, 'Graphic Novels Comics Manga': 1, 'Writing (Journalism) ': 1, 'Physics (Quantum Mechanics) ': 1, 'Fairy Tales (Cinderella) ': 3, 'Urban': 7, 'African Literature (Egyptian Literature) ': 2, 'Social': 1, 'War (Soldiers) ': 1, 'Philosophy (Metaphysics) ': 2, 'Young Adult (Young Adult Historical Fiction) ': 6, 'Fan Fiction (Slash Fiction) ': 1, 'Role Playing Games (Mmorpg) ': 2, 'Computers (Internet) ': 2, 'Marvel (Spider Man) ': 1, 'American (Southern) ': 1, 'Did Not Finish': 1, 'Harlequin (Harlequin Teen) ': 1, 'Religion (Judaism) ': 2, 'European Literature (Czech Literature) ': 5, 'Childrens (2nd Grade) ': 2, 'Christian Fiction (Christian Fantasy) ': 1, 'Manga (Yaoi) ': 2, 'Yaoi (Shounen Ai) ': 2, 'Games (Chess) ': 1, 'Cultural (International) ': 2, 'Literature (17th Century) ': 8, 'Cultural (Brazil) ': 2, 'Mystery (Murder Mystery) ': 1, 'Historical Romance (Western Historical Romance) ': 1, 'Occult': 1, 'Fairy Tales (Fractured Fairy Tales) ': 3, 'Warfare (Fighters) ': 1, 'Cultural (Sweden) ': 5, 'European Literature (Swedish Literature) ': 3, 'European Literature (Scandinavian Literature) ': 2, 'Science (Pseudoscience) ': 2, 'Business (Google) ': 1, 'Animals (Anthropomorphic) ': 1, 'Fantasy (Comic Fantasy) ': 1, 'Cultural (Belgium) ': 1, 'Mathematics (Number) ': 1, 'Folklore': 1, 'Cultural (Bulgaria) ': 1, 'Literature (Canadian Literature) ': 1, 'Romance (Lesbian Romance) ': 1, 'History (Ancient History) ': 1, 'Genderqueer (Genderfluid) ': 2, 'Religion (Islam) ': 1, 'Mystery (Cozy Mystery) ': 2, 'Literature (18th Century) ': 1, 'Literature (15th Century) ': 1, 'Plays (Theatre) ': 2, 'Polyamorous (Harem) ': 1, 'Health (Medicine) ': 1, 'Mail Order Brides': 1, 'Parenting (Adoption) ': 2, 'Animals (Wolves) ': 1, 'Womens Fiction': 2, 'Fantasy (Fantasy Of Manners) ': 1, 'Business (Management) ': 1, 'Geography (Cities) ': 1, 'Transgender (Cross Dressing) ': 1, 'Sequential Art (Cartoon) ': 1, 'Language (Communication) ': 1, 'Teaching': 1, 'Female Authors': 1, 'Biblical Fiction': 1, 'Southern Africa (South Africa) ': 1, 'Aviation': 1, 'Computer Science (Software) ': 1, 'Science (Geology) ': 1, 'Science (Chemistry) ': 1}\n"
          ]
        }
      ]
    },
    {
      "cell_type": "markdown",
      "metadata": {
        "id": "20n0RBj4LhaK"
      },
      "source": [
        "Some genres like Horror (Lovecraftian), Paranormal (Fairies), etc are mentioned less than 50 times in the whole dataset. A model that is trained on the dataset will not be able to detect such genres which a high accuracy. Moreover, after splitting the dataset into a training and test set, the number of instances for such genres in the training set will decrease further.\n",
        "\n",
        "In the previous notebook, we also saw how some genres like Fiction, Fantasy,Science Fiction are mentioned in 70-80% of the rows in the dataset.This means that if we randomly assign these labels to books, we would be right 70-80% of the time. Moreover, the dataset also has sub-genres for genres like Sci-Fi, Fantasy, etc.\n",
        "\n",
        "It's better to remove these labels from our dataset. "
      ]
    },
    {
      "cell_type": "code",
      "metadata": {
        "id": "JmmUGL7k-S6Z",
        "colab": {
          "base_uri": "https://localhost:8080/"
        },
        "outputId": "5134b391-7cd5-4ba9-a6f6-ba11cf8c66d3"
      },
      "source": [
        "to_remove=[\"None\",\"Fiction\",\"Fantasy\",\"Science Fiction\"] #labels which need to be removed\n",
        "for i,j in counts.items():\n",
        "  if j<50: #removeing all labels with count less than 50\n",
        "    to_remove.append(i)\n",
        "to_remove[:10]    "
      ],
      "execution_count": null,
      "outputs": [
        {
          "output_type": "execute_result",
          "data": {
            "text/plain": [
              "['None',\n",
              " 'Fiction',\n",
              " 'Fantasy',\n",
              " 'Science Fiction',\n",
              " 'Science Fiction R... (Steampunk Romance) ',\n",
              " 'Young Adult (Young Adult Romance) ',\n",
              " 'Horror (Lovecraftian) ',\n",
              " 'Fantasy (Dark Fantasy) ',\n",
              " 'Young Adult (High School) ',\n",
              " 'Paranormal (Fairies) ']"
            ]
          },
          "metadata": {},
          "execution_count": 33
        }
      ]
    },
    {
      "cell_type": "markdown",
      "metadata": {
        "id": "uX3F4LjMl-mF"
      },
      "source": [
        "*How many labels are we left with?*"
      ]
    },
    {
      "cell_type": "code",
      "metadata": {
        "colab": {
          "base_uri": "https://localhost:8080/"
        },
        "id": "6tEnlF4GQteX",
        "outputId": "19ea9028-da44-410f-836d-afed465594ec"
      },
      "source": [
        "524-len(to_remove)"
      ],
      "execution_count": null,
      "outputs": [
        {
          "output_type": "execute_result",
          "data": {
            "text/plain": [
              "143"
            ]
          },
          "metadata": {},
          "execution_count": 34
        }
      ]
    },
    {
      "cell_type": "markdown",
      "metadata": {
        "id": "X4coC1xXBh2h"
      },
      "source": [
        "In the previous notebook, while creating word clouds, we created a function to get the most important labels for each row in the dataset. We are going to use the same function here. \n",
        "\n",
        "\n",
        "\n"
      ]
    },
    {
      "cell_type": "code",
      "metadata": {
        "id": "9DSpU9sSqYH6"
      },
      "source": [
        "def get_labels(string):\n",
        "    d=ast.literal_eval(string)\n",
        "    for key in [key for key in d if key in to_remove]: del d[key]\n",
        "    s=sum(d.values())\n",
        "    genre_pct=[(i,(d[i]/s)*100) for i in d]\n",
        "    genre_pct.sort(key=lambda y: y[1],reverse=True)\n",
        "    add=0\n",
        "    labels=[]\n",
        "    for i in genre_pct:\n",
        "      if add<=90:\n",
        "        labels.append(i[0])\n",
        "        add+=i[1]\n",
        "    return labels"
      ],
      "execution_count": null,
      "outputs": []
    },
    {
      "cell_type": "markdown",
      "metadata": {
        "id": "B2q5kSkAVWk1"
      },
      "source": [
        "Getting the labels"
      ]
    },
    {
      "cell_type": "code",
      "metadata": {
        "id": "NtCBwbV2qyjR"
      },
      "source": [
        "book_data['labels']=list(map(get_labels,book_data['Genres']))"
      ],
      "execution_count": null,
      "outputs": []
    },
    {
      "cell_type": "markdown",
      "metadata": {
        "id": "QSrA_0s5X9GA"
      },
      "source": [
        "If there are any rows which have no labels we should remove them"
      ]
    },
    {
      "cell_type": "code",
      "metadata": {
        "id": "bUPid-riEJgr"
      },
      "source": [
        "def to_keep(labels): \n",
        "    if len(labels)==0:\n",
        "      return False\n",
        "    else:\n",
        "      return True"
      ],
      "execution_count": null,
      "outputs": []
    },
    {
      "cell_type": "markdown",
      "metadata": {
        "id": "T6vtahcSYUOw"
      },
      "source": [
        "After removing the rows with no labels, we will create a `DataFrame` which only contains the independent variable (book description) and the dependent variable (genres) "
      ]
    },
    {
      "cell_type": "code",
      "metadata": {
        "id": "-Pdsi2M6rTKw"
      },
      "source": [
        "book_data['to_keep']=list(map(to_keep,book_data['labels']))\n",
        "book_data=book_data[book_data['to_keep']==True]\n",
        "df=book_data[['Book_Description','labels']]"
      ],
      "execution_count": null,
      "outputs": []
    },
    {
      "cell_type": "markdown",
      "metadata": {
        "id": "vICre41lZKvD"
      },
      "source": [
        "Size of the DataFrame"
      ]
    },
    {
      "cell_type": "code",
      "metadata": {
        "colab": {
          "base_uri": "https://localhost:8080/"
        },
        "id": "LrxWXvMKCEK0",
        "outputId": "edcdd488-d532-4100-fd8e-12dbc00e987a"
      },
      "source": [
        "df.shape"
      ],
      "execution_count": null,
      "outputs": [
        {
          "output_type": "execute_result",
          "data": {
            "text/plain": [
              "(14841, 2)"
            ]
          },
          "metadata": {},
          "execution_count": 39
        }
      ]
    },
    {
      "cell_type": "markdown",
      "metadata": {
        "id": "eadEzJbNNjpP"
      },
      "source": [
        "*What does it look like?*"
      ]
    },
    {
      "cell_type": "code",
      "metadata": {
        "colab": {
          "base_uri": "https://localhost:8080/",
          "height": 984
        },
        "id": "e7JtDNUar-Wu",
        "outputId": "b35342d1-af1d-418c-b45d-64f401825434"
      },
      "source": [
        "df"
      ],
      "execution_count": null,
      "outputs": [
        {
          "output_type": "execute_result",
          "data": {
            "text/html": [
              "<div>\n",
              "<style scoped>\n",
              "    .dataframe tbody tr th:only-of-type {\n",
              "        vertical-align: middle;\n",
              "    }\n",
              "\n",
              "    .dataframe tbody tr th {\n",
              "        vertical-align: top;\n",
              "    }\n",
              "\n",
              "    .dataframe thead th {\n",
              "        text-align: right;\n",
              "    }\n",
              "</style>\n",
              "<table border=\"1\" class=\"dataframe\">\n",
              "  <thead>\n",
              "    <tr style=\"text-align: right;\">\n",
              "      <th></th>\n",
              "      <th>Book_Description</th>\n",
              "      <th>labels</th>\n",
              "    </tr>\n",
              "  </thead>\n",
              "  <tbody>\n",
              "    <tr>\n",
              "      <th>0</th>\n",
              "      <td>There are no secrets in Saintstone.From the second you're born, every achievement, every failing, every significant moment are all immortalized on your skin. There are honorable marks that let people know you're trustworthy. And shameful tattoos that announce you as a traitor. After her father dies, Leora finds solace in the fact that his skin tells a wonderful story. That is, until she glimpses a mark on the back of his neck...the symbol of the worst crime a person can commit in Saintstone. Leora knows it has to be a mistake, but before she can do anything about it, the horrifying secret ...</td>\n",
              "      <td>[Young Adult, Science Fiction (Dystopia) , Young Adult (Young Adult Fantasy) , Audiobook]</td>\n",
              "    </tr>\n",
              "    <tr>\n",
              "      <th>1</th>\n",
              "      <td>The revelations on Mars -- a half-million year-old legacy of the vanished star-traveling Builders -- have fed the flames of catastrophic war. A beleaguered United States and its Russian and Japanese allies struggle to hold their own against the indomitable forces of the enemy United Nations. The bloody conflict that has swept over the home planet now rages across the blackness of space -- with the U.S. Marine Corps in the vanguard, leading the charge as always.But Mars is not the sole repository of alien wonders. The Earth's moon hides unsettling mysteries of its own-and dangerous secrets ...</td>\n",
              "      <td>[War (Military Fiction) , Science Fiction (Military Science Fiction) , Space (Space Opera) , Science Fiction (Alternate History) , Space, Science Fiction (Hard Science Fiction) , Science Fiction Fantasy]</td>\n",
              "    </tr>\n",
              "    <tr>\n",
              "      <th>2</th>\n",
              "      <td>In 1804, Captain Meriwether Lewis and Second Lieutenant William Clark set out on an expedition to explore the uncharted American frontier. This is the story of the monsters they discovered lurking in the wilds...Collects MANIFEST DESTINY #1-6.</td>\n",
              "      <td>[Sequential Art (Graphic Novels) , Sequential Art (Comics) , Horror, Historical (Historical Fiction) , Graphic Novels Comics]</td>\n",
              "    </tr>\n",
              "    <tr>\n",
              "      <th>3</th>\n",
              "      <td>In the Nevada desert, an experiment has gone horribly wrong. A cloud of nanoparticles -- micro-robots -- has escaped from the laboratory. This cloud is self-sustaining and self-reproducing. It is intelligent and learns from experience. For all practical purposes, it is alive.It has been programmed as a predator. It is evolving swiftly, becoming more deadly with each passing hour.Every attempt to destroy it has failed.And we are the prey.</td>\n",
              "      <td>[Thriller, Horror, Suspense, Mystery, Science Fiction Fantasy, Novels]</td>\n",
              "    </tr>\n",
              "    <tr>\n",
              "      <th>4</th>\n",
              "      <td>Alita's death sentence is commuted in exchange for her service as a member of the Tuned, an elite force of the utopian city of Tiphares. Her first assignment is to protect a nuclear-powered train from the infamous bandit known as Barjack.</td>\n",
              "      <td>[Sequential Art (Manga) , Sequential Art (Comics) , Sequential Art (Graphic Novels) , Science Fiction (Cyberpunk) ]</td>\n",
              "    </tr>\n",
              "    <tr>\n",
              "      <th>...</th>\n",
              "      <td>...</td>\n",
              "      <td>...</td>\n",
              "    </tr>\n",
              "    <tr>\n",
              "      <th>14969</th>\n",
              "      <td>Brave New World is a dystopian novel by English author Aldous Huxley, written in 1931 and published in 1932. Largely set in a futuristic World State, inhabited by genetically modified citizens and an intelligence-based social hierarchy, the novel anticipates huge scientific advancements in reproductive technology, sleep-learning, psychological manipulation and classical conditioning that are combined to make a dystopian society which is challenged by only a single individual: the story's protagonist.</td>\n",
              "      <td>[Classics, Science Fiction (Dystopia) , Literature, Novels]</td>\n",
              "    </tr>\n",
              "    <tr>\n",
              "      <th>14970</th>\n",
              "      <td>Let the world burn.With an iron fist, the Great Library controls the knowledge of the world, ruthlessly stamping out all rebellion and, in the name of the greater good, forbidding the personal ownership of books.Jess Brightwell has survived his introduction to the sinister, seductive world of the Library, but serving in its army is nothing like he envisioned. His life and the lives of those he cares for have been altered forever. His best friend is lost, and Morgan, the girl he loves, is locked away in the Iron Tower, doomed to a life apart from everything she knows.After embarking on a mi...</td>\n",
              "      <td>[Young Adult, Science Fiction (Dystopia) , Science Fiction (Steampunk) , Writing (Books About Books) , Young Adult (Young Adult Fantasy) , Science Fiction (Alternate History) ]</td>\n",
              "    </tr>\n",
              "    <tr>\n",
              "      <th>14971</th>\n",
              "      <td>In the 21st century, the once-glittering Neo-Tokyo lies in ruins, leveled in minutes by the infinite power of the child psychic giant, Akira. Now a wasteland of rubble and anarchy, the Great Tokyo Empire rises, a ragtag group of zealots and crazies who worship and fear Akira and his mad prime minister, Tetsuo, an angry teen with immense powers of his own -- and equally immense twisted ambitions. The planet at large is not taking the threat lying down, however, and the might of the world is ready to take on the Empire, but will technology's most advanced weaponry be enough to destroy Akira ...</td>\n",
              "      <td>[Sequential Art (Manga) , Sequential Art (Comics) , Sequential Art (Graphic Novels) , Science Fiction (Cyberpunk) ]</td>\n",
              "    </tr>\n",
              "    <tr>\n",
              "      <th>14972</th>\n",
              "      <td>Romance. Magic.Murder.Dominic Kopecky dreamed of becoming a member of New York’s Metropolitan Witch Police—a dream dashed when he failed the test for magical aptitude. Now he spends his days drawing the hexes the MWP relies on for their investigations.But when a murder by patent hex brings crow familiar Rook to his desk, Dominic can’t resist the chance to experience magic. And as the heat grows between Dominic and Rook, so does the danger. Because the case has been declared closed—and someone is willing to kill to keep it that way.The 13th Hex is the prequel short story to the all-new Hexw...</td>\n",
              "      <td>[Romance (M M Romance) , Fantasy (Paranormal) , Romance, Historical, Mystery, Fantasy (Magic) , Short Stories, Paranormal (Shapeshifters) ]</td>\n",
              "    </tr>\n",
              "    <tr>\n",
              "      <th>14973</th>\n",
              "      <td>The New York Times bestselling author of The Map of Time returns with a mesmerizing novel casting H.G. Wells in a leading role, as the extraterrestrial invasion featured in The War of the Worlds is turned into a bizarre reality.A love story serves as backdrop for The Map of the Sky when New York socialite Emma Harlow agrees to marry millionaire Montgomery Gilmore, but only if he accepts her audacious challenge: to reproduce the extraterrestrial invasion featured in Wells’s War of the Worlds. What follows are three brilliantly interconnected plots to create a breathtaking tale of time trave...</td>\n",
              "      <td>[Science Fiction (Steampunk) , Historical (Historical Fiction) , Science Fiction (Time Travel) , Mystery, Historical, Adventure]</td>\n",
              "    </tr>\n",
              "  </tbody>\n",
              "</table>\n",
              "<p>14841 rows × 2 columns</p>\n",
              "</div>"
            ],
            "text/plain": [
              "                                                                                                                                                                                                                                                                                                                                                                                                                                                                                                                                                                                                              Book_Description                                                                                                                                                                                                       labels\n",
              "0      There are no secrets in Saintstone.From the second you're born, every achievement, every failing, every significant moment are all immortalized on your skin. There are honorable marks that let people know you're trustworthy. And shameful tattoos that announce you as a traitor. After her father dies, Leora finds solace in the fact that his skin tells a wonderful story. That is, until she glimpses a mark on the back of his neck...the symbol of the worst crime a person can commit in Saintstone. Leora knows it has to be a mistake, but before she can do anything about it, the horrifying secret ...                                                                                                                    [Young Adult, Science Fiction (Dystopia) , Young Adult (Young Adult Fantasy) , Audiobook]\n",
              "1      The revelations on Mars -- a half-million year-old legacy of the vanished star-traveling Builders -- have fed the flames of catastrophic war. A beleaguered United States and its Russian and Japanese allies struggle to hold their own against the indomitable forces of the enemy United Nations. The bloody conflict that has swept over the home planet now rages across the blackness of space -- with the U.S. Marine Corps in the vanguard, leading the charge as always.But Mars is not the sole repository of alien wonders. The Earth's moon hides unsettling mysteries of its own-and dangerous secrets ...  [War (Military Fiction) , Science Fiction (Military Science Fiction) , Space (Space Opera) , Science Fiction (Alternate History) , Space, Science Fiction (Hard Science Fiction) , Science Fiction Fantasy]\n",
              "2                                                                                                                                                                                                                                                                                                                                                                          In 1804, Captain Meriwether Lewis and Second Lieutenant William Clark set out on an expedition to explore the uncharted American frontier. This is the story of the monsters they discovered lurking in the wilds...Collects MANIFEST DESTINY #1-6.                                                                                [Sequential Art (Graphic Novels) , Sequential Art (Comics) , Horror, Historical (Historical Fiction) , Graphic Novels Comics]\n",
              "3                                                                                                                                                                    In the Nevada desert, an experiment has gone horribly wrong. A cloud of nanoparticles -- micro-robots -- has escaped from the laboratory. This cloud is self-sustaining and self-reproducing. It is intelligent and learns from experience. For all practical purposes, it is alive.It has been programmed as a predator. It is evolving swiftly, becoming more deadly with each passing hour.Every attempt to destroy it has failed.And we are the prey.                                                                                                                                       [Thriller, Horror, Suspense, Mystery, Science Fiction Fantasy, Novels]\n",
              "4                                                                                                                                                                                                                                                                                                                                                                               Alita's death sentence is commuted in exchange for her service as a member of the Tuned, an elite force of the utopian city of Tiphares. Her first assignment is to protect a nuclear-powered train from the infamous bandit known as Barjack.                                                                                          [Sequential Art (Manga) , Sequential Art (Comics) , Sequential Art (Graphic Novels) , Science Fiction (Cyberpunk) ]\n",
              "...                                                                                                                                                                                                                                                                                                                                                                                                                                                                                                                                                                                                                        ...                                                                                                                                                                                                          ...\n",
              "14969                                                                                                Brave New World is a dystopian novel by English author Aldous Huxley, written in 1931 and published in 1932. Largely set in a futuristic World State, inhabited by genetically modified citizens and an intelligence-based social hierarchy, the novel anticipates huge scientific advancements in reproductive technology, sleep-learning, psychological manipulation and classical conditioning that are combined to make a dystopian society which is challenged by only a single individual: the story's protagonist.                                                                                                                                                  [Classics, Science Fiction (Dystopia) , Literature, Novels]\n",
              "14970  Let the world burn.With an iron fist, the Great Library controls the knowledge of the world, ruthlessly stamping out all rebellion and, in the name of the greater good, forbidding the personal ownership of books.Jess Brightwell has survived his introduction to the sinister, seductive world of the Library, but serving in its army is nothing like he envisioned. His life and the lives of those he cares for have been altered forever. His best friend is lost, and Morgan, the girl he loves, is locked away in the Iron Tower, doomed to a life apart from everything she knows.After embarking on a mi...                             [Young Adult, Science Fiction (Dystopia) , Science Fiction (Steampunk) , Writing (Books About Books) , Young Adult (Young Adult Fantasy) , Science Fiction (Alternate History) ]\n",
              "14971  In the 21st century, the once-glittering Neo-Tokyo lies in ruins, leveled in minutes by the infinite power of the child psychic giant, Akira. Now a wasteland of rubble and anarchy, the Great Tokyo Empire rises, a ragtag group of zealots and crazies who worship and fear Akira and his mad prime minister, Tetsuo, an angry teen with immense powers of his own -- and equally immense twisted ambitions. The planet at large is not taking the threat lying down, however, and the might of the world is ready to take on the Empire, but will technology's most advanced weaponry be enough to destroy Akira ...                                                                                          [Sequential Art (Manga) , Sequential Art (Comics) , Sequential Art (Graphic Novels) , Science Fiction (Cyberpunk) ]\n",
              "14972  Romance. Magic.Murder.Dominic Kopecky dreamed of becoming a member of New York’s Metropolitan Witch Police—a dream dashed when he failed the test for magical aptitude. Now he spends his days drawing the hexes the MWP relies on for their investigations.But when a murder by patent hex brings crow familiar Rook to his desk, Dominic can’t resist the chance to experience magic. And as the heat grows between Dominic and Rook, so does the danger. Because the case has been declared closed—and someone is willing to kill to keep it that way.The 13th Hex is the prequel short story to the all-new Hexw...                                                                  [Romance (M M Romance) , Fantasy (Paranormal) , Romance, Historical, Mystery, Fantasy (Magic) , Short Stories, Paranormal (Shapeshifters) ]\n",
              "14973  The New York Times bestselling author of The Map of Time returns with a mesmerizing novel casting H.G. Wells in a leading role, as the extraterrestrial invasion featured in The War of the Worlds is turned into a bizarre reality.A love story serves as backdrop for The Map of the Sky when New York socialite Emma Harlow agrees to marry millionaire Montgomery Gilmore, but only if he accepts her audacious challenge: to reproduce the extraterrestrial invasion featured in Wells’s War of the Worlds. What follows are three brilliantly interconnected plots to create a breathtaking tale of time trave...                                                                             [Science Fiction (Steampunk) , Historical (Historical Fiction) , Science Fiction (Time Travel) , Mystery, Historical, Adventure]\n",
              "\n",
              "[14841 rows x 2 columns]"
            ]
          },
          "metadata": {},
          "execution_count": 40
        }
      ]
    },
    {
      "cell_type": "markdown",
      "metadata": {
        "id": "CmKhdHZ7szmu"
      },
      "source": [
        "In Part-1 of this project, we created a language model fine-tuned on our dataset. After creating the dataloader for the language model, we saved it for later use. We are going to use that its vocabulary for creating the dataloader for our multi-label classifier.\n",
        "\n",
        "Let's load the dataloader of the language model"
      ]
    },
    {
      "cell_type": "code",
      "metadata": {
        "id": "q68cJIMWuRRS"
      },
      "source": [
        "import pickle \n",
        "with open('dls_lm.pickle','rb') as f:\n",
        "  dls_lm=pickle.load(f)"
      ],
      "execution_count": null,
      "outputs": []
    },
    {
      "cell_type": "markdown",
      "metadata": {
        "id": "346YDQCCb83J"
      },
      "source": [
        "Now, we will create the DataBlock for our multi-label classifier.\n",
        "\n",
        "To create a `DataBlock`, we need to pass in the following details:\n",
        "\n",
        "* Type of independent and dependent variable (our independent variables are book descriptions and the dependent variables are genres )\n",
        "* A function to get the independent variables or book descriptions in our case (`get_x`) .\n",
        "* A function to get the values of the dependent variable, which are the labels/genres (`get_y`).\n",
        "* A method to split the dataset into training and validation set (`splitter`).\n",
        "\n",
        "That's all!!!\n",
        "\n",
        "It's important to note that all of the text preprocessing is taken care of by FastAI. This makes the process extremely convenient and also reduces any chances of errors.\n",
        "\n",
        "We can create the dataloader from our Datablock using the `datablock.dataloaders()` method.\n",
        "\n"
      ]
    },
    {
      "cell_type": "code",
      "metadata": {
        "id": "5ELDFTqgrM38",
        "colab": {
          "base_uri": "https://localhost:8080/",
          "height": 70
        },
        "outputId": "c8cd4b5e-20b9-4582-e345-45f4a58372d8"
      },
      "source": [
        "datablock=DataBlock(\n",
        "    blocks=(TextBlock.from_df('Book_Description',is_lm=False,seq_len=72,vocab=dls_lm.vocab),MultiCategoryBlock),\n",
        "    get_x=ColReader('text'),\n",
        "    get_y=ColReader('labels'),\n",
        "    splitter=TrainTestSplitter())\n",
        "dls_gc=datablock.dataloaders(df,bs=128) # batch size=128"
      ],
      "execution_count": null,
      "outputs": [
        {
          "output_type": "display_data",
          "data": {
            "text/html": [
              ""
            ],
            "text/plain": [
              "<IPython.core.display.HTML object>"
            ]
          },
          "metadata": {}
        },
        {
          "output_type": "stream",
          "name": "stderr",
          "text": [
            "/usr/local/lib/python3.7/dist-packages/numpy/core/_asarray.py:83: VisibleDeprecationWarning: Creating an ndarray from ragged nested sequences (which is a list-or-tuple of lists-or-tuples-or ndarrays with different lengths or shapes) is deprecated. If you meant to do this, you must specify 'dtype=object' when creating the ndarray\n",
            "  return array(a, dtype, copy=False, order=order)\n"
          ]
        }
      ]
    },
    {
      "cell_type": "markdown",
      "metadata": {
        "id": "6U-WuOMig28r"
      },
      "source": [
        "*What does a batch in the dataloader look like?*"
      ]
    },
    {
      "cell_type": "code",
      "metadata": {
        "id": "c61DCtHHuZvu",
        "colab": {
          "base_uri": "https://localhost:8080/",
          "height": 637
        },
        "outputId": "7470dbfe-05de-4dc7-e984-5a5fd77eb39c"
      },
      "source": [
        "dls_gc.show_batch(max_n=5)"
      ],
      "execution_count": null,
      "outputs": [
        {
          "output_type": "display_data",
          "data": {
            "text/html": [
              "<table border=\"1\" class=\"dataframe\">\n",
              "  <thead>\n",
              "    <tr style=\"text-align: right;\">\n",
              "      <th></th>\n",
              "      <th>text</th>\n",
              "      <th>None</th>\n",
              "    </tr>\n",
              "  </thead>\n",
              "  <tbody>\n",
              "    <tr>\n",
              "      <th>0</th>\n",
              "      <td>xxbos xxmaj markham and the xxmaj anal xxunk then there was the day when xxmaj markham managed to get himself snatched by aliens – or so we thought at the xxunk was summoned to xxmaj dr xxmaj bairstow ’s office to find xxmaj markham and xxmaj peterson already present . xxmaj we looked at each other . xxunk clues ? ’ i xxunk shrugged . xxunk can go in now , ’ said xxmaj mrs xxmaj partridge , so in we xxunk looked up from his desk . ‘ there you are . ’we agreed that yes , here we xxunk xxunk at his xxunk table on which xxunk several archive boxes and a fat folder . xxunk xxmaj county xxmaj archivist has been good enough to make available various documents requested by xxmaj dr xxmaj xxunk . a condition was that we do not expose them to the hazards</td>\n",
              "      <td>Historical;Historical (Historical Fiction) ;Humor;Science Fiction (Alternate History) ;Science Fiction (Time Travel) ;Short Stories</td>\n",
              "    </tr>\n",
              "    <tr>\n",
              "      <th>1</th>\n",
              "      <td>xxbos xxmaj an anthology of the classic short tales of the xxmaj time xxmaj patrol , the future organization that xxunk the continuity of human history . xxmaj forget minor hazards like nuclear bombs . xxmaj the discovery of time travel means that everything we know , anyone we know , might not only vanish , but never even have existed . xxmaj against that possibility stand the men and women of the xxmaj time xxmaj patrol , dedicated to preserving the history they know and protecting the future from fanatics , terrorists , and would - be dictators who would xxunk the shape of reality to suit their own purposes . xxmaj but xxmaj manse xxmaj everard , the xxmaj patrol 's finest temporal trouble - shooter , bears a heavy burden . xxmaj the fabric of history is stained with human blood and suffering which he can not</td>\n",
              "      <td>Adventure;Historical (Historical Fiction) ;Science Fiction (Alternate History) ;Science Fiction (Time Travel)</td>\n",
              "    </tr>\n",
              "    <tr>\n",
              "      <th>2</th>\n",
              "      <td>xxbos xxmaj an anthology of the classic short tales of the xxmaj time xxmaj patrol , the future organization that xxunk the continuity of human history . xxmaj forget minor hazards like nuclear bombs . xxmaj the discovery of time travel means that everything we know , anyone we know , might not only vanish , but never even have existed . xxmaj against that possibility stand the men and women of the xxmaj time xxmaj patrol , dedicated to preserving the history they know and protecting the future from fanatics , terrorists , and would - be dictators who would xxunk the shape of reality to suit their own purposes . xxmaj but xxmaj manse xxmaj everard , the xxmaj patrol 's finest temporal trouble - shooter , bears a heavy burden . xxmaj the fabric of history is stained with human blood and suffering which he can not</td>\n",
              "      <td>Adventure;Historical (Historical Fiction) ;Science Fiction (Alternate History) ;Science Fiction (Time Travel)</td>\n",
              "    </tr>\n",
              "    <tr>\n",
              "      <th>3</th>\n",
              "      <td>xxbos xxmaj the term “ cyberpunk ” entered the literary landscape in 1984 to describe xxmaj william xxmaj gibson ’s xxunk novel xxmaj neuromancer . xxmaj xxunk are now among the shock troops of postmodernism , xxmaj larry mccaffery argues in xxmaj storming the xxmaj reality xxmaj studio , xxunk the resources of a fragmentary culture to create a startling new form . xxmaj artificial intelligence , genetic engineering , multinational machinations , frenetic bursts of prose , xxunk of style , celebrations of xxunk : although emerging largely from science fiction , these features of cyberpunk writing are , as this volume makes clear , xxunk related to the aims and innovations of the literary xxunk bringing together original fiction by well - known contemporary writers ( william xxmaj burroughs , xxmaj thomas xxmaj pynchon , xxmaj don xxunk , xxmaj kathy xxmaj acker , xxup j. xxup g.</td>\n",
              "      <td>Anthologies;Philosophy;Science Fiction (Cyberpunk)</td>\n",
              "    </tr>\n",
              "    <tr>\n",
              "      <th>4</th>\n",
              "      <td>xxbos xxup series description : in the center of xxmaj long xxmaj island 's forbidden wasteland , overseen by a large and powerful corporation known as xxmaj arc xxmaj properties , is xxup gameland , a virtual reality xxunk where the rich and privileged act out their base fantasies using zombies as avatars . xxmaj connected to their xxmaj infected xxmaj players via neural implants ( government - xxunk in the event of an outbreak ) , xxmaj operators pit the xxmaj undead against one another using remote gaming controllers in a high stakes game of money , violence , and power . xxmaj for the poor , the televised action on state - controlled xxmaj media streams is horrifying yet powerfully addictive . xxmaj volunteering to become an xxmaj undead xxmaj player is strictly forbidden , but fame and money lure some to xxmaj the xxunk a whim ,</td>\n",
              "      <td>Apocalyptic (Post Apocalyptic) ;Horror;Horror (Zombies) ;Science Fiction (Apocalyptic) ;Science Fiction (Cyberpunk)</td>\n",
              "    </tr>\n",
              "  </tbody>\n",
              "</table>"
            ],
            "text/plain": [
              "<IPython.core.display.HTML object>"
            ]
          },
          "metadata": {}
        }
      ]
    },
    {
      "cell_type": "markdown",
      "metadata": {
        "id": "f1VTAOTlho0w"
      },
      "source": [
        "## Model Building "
      ]
    },
    {
      "cell_type": "markdown",
      "metadata": {
        "id": "Ud28fMpwjtv5"
      },
      "source": [
        "Now that the dataloader is ready, let's build our multi-label classifier. \n",
        "\n",
        "In Part-1 of this project, we created our language model by fine-tuning the pre-trained AWD-LSTM model trained on Wikipedia. Here, we will use the fine-tuned language model from Part-1 and repurpose its existing knowledge for our multi-label classification task. This is known as the Universal Language Model Fine-tuning (ULMFit) approach. The [paper](https://arxiv.org/abs/1801.06146) showed that this extra stage of fine-tuning of the language model, prior to transfer learning to a classification task, resulted in significantly better predictions.\n",
        "\n",
        "We can create a classifier for textual data using the `text_classifier_learner()` convinience function in FastAI. "
      ]
    },
    {
      "cell_type": "code",
      "metadata": {
        "id": "WVlSrcvlwFtQ"
      },
      "source": [
        "genre_classifier=text_classifier_learner(dls_gc,AWD_LSTM,drop_mult=0.5,metrics=[accuracy_multi,F1ScoreMulti(sigmoid=False)]).to_fp16()"
      ],
      "execution_count": null,
      "outputs": []
    },
    {
      "cell_type": "markdown",
      "metadata": {
        "id": "ToinrD5_qRaf"
      },
      "source": [
        "Let's see the model architecture"
      ]
    },
    {
      "cell_type": "code",
      "metadata": {
        "colab": {
          "base_uri": "https://localhost:8080/"
        },
        "id": "39ENNu_f6RSX",
        "outputId": "fcd75908-9999-475c-84d9-fd7ac05c1581"
      },
      "source": [
        "genre_classifier.model"
      ],
      "execution_count": null,
      "outputs": [
        {
          "output_type": "execute_result",
          "data": {
            "text/plain": [
              "SequentialRNN(\n",
              "  (0): SentenceEncoder(\n",
              "    (module): AWD_LSTM(\n",
              "      (encoder): Embedding(29632, 400, padding_idx=1)\n",
              "      (encoder_dp): EmbeddingDropout(\n",
              "        (emb): Embedding(29632, 400, padding_idx=1)\n",
              "      )\n",
              "      (rnns): ModuleList(\n",
              "        (0): WeightDropout(\n",
              "          (module): LSTM(400, 1152, batch_first=True)\n",
              "        )\n",
              "        (1): WeightDropout(\n",
              "          (module): LSTM(1152, 1152, batch_first=True)\n",
              "        )\n",
              "        (2): WeightDropout(\n",
              "          (module): LSTM(1152, 400, batch_first=True)\n",
              "        )\n",
              "      )\n",
              "      (input_dp): RNNDropout()\n",
              "      (hidden_dps): ModuleList(\n",
              "        (0): RNNDropout()\n",
              "        (1): RNNDropout()\n",
              "        (2): RNNDropout()\n",
              "      )\n",
              "    )\n",
              "  )\n",
              "  (1): PoolingLinearClassifier(\n",
              "    (layers): Sequential(\n",
              "      (0): LinBnDrop(\n",
              "        (0): BatchNorm1d(1200, eps=1e-05, momentum=0.1, affine=True, track_running_stats=True)\n",
              "        (1): Dropout(p=0.2, inplace=False)\n",
              "        (2): Linear(in_features=1200, out_features=50, bias=False)\n",
              "        (3): ReLU(inplace=True)\n",
              "      )\n",
              "      (1): LinBnDrop(\n",
              "        (0): BatchNorm1d(50, eps=1e-05, momentum=0.1, affine=True, track_running_stats=True)\n",
              "        (1): Dropout(p=0.1, inplace=False)\n",
              "        (2): Linear(in_features=50, out_features=143, bias=False)\n",
              "      )\n",
              "    )\n",
              "  )\n",
              ")"
            ]
          },
          "metadata": {},
          "execution_count": 45
        }
      ]
    },
    {
      "cell_type": "markdown",
      "metadata": {
        "id": "LjBPqiv9wzyn"
      },
      "source": [
        "Now, we load the weights of our fine-tuned language model from Part-1"
      ]
    },
    {
      "cell_type": "code",
      "metadata": {
        "id": "ypNP4m_3wyrR"
      },
      "source": [
        "encoder=genre_classifier.load_encoder('finetuned_lm')"
      ],
      "execution_count": null,
      "outputs": []
    },
    {
      "cell_type": "markdown",
      "metadata": {
        "id": "0Z3wDtQ07_1N"
      },
      "source": [
        "The last step is to train with discriminative learning rates and gradual unfreezing. \n",
        "\n",
        "\n"
      ]
    },
    {
      "cell_type": "code",
      "metadata": {
        "id": "OZNV743exH4U",
        "colab": {
          "base_uri": "https://localhost:8080/",
          "height": 79
        },
        "outputId": "7e530ab5-bca4-4ea1-d4ab-d57549edd0db"
      },
      "source": [
        "genre_classifier.fit_one_cycle(1,2e-2) #fitting only the randomly initialized embeddings"
      ],
      "execution_count": null,
      "outputs": [
        {
          "output_type": "display_data",
          "data": {
            "text/html": [
              "<table border=\"1\" class=\"dataframe\">\n",
              "  <thead>\n",
              "    <tr style=\"text-align: left;\">\n",
              "      <th>epoch</th>\n",
              "      <th>train_loss</th>\n",
              "      <th>valid_loss</th>\n",
              "      <th>accuracy_multi</th>\n",
              "      <th>f1_score</th>\n",
              "      <th>time</th>\n",
              "    </tr>\n",
              "  </thead>\n",
              "  <tbody>\n",
              "    <tr>\n",
              "      <td>0</td>\n",
              "      <td>0.155282</td>\n",
              "      <td>0.092921</td>\n",
              "      <td>0.969564</td>\n",
              "      <td>0.063964</td>\n",
              "      <td>01:43</td>\n",
              "    </tr>\n",
              "  </tbody>\n",
              "</table>"
            ],
            "text/plain": [
              "<IPython.core.display.HTML object>"
            ]
          },
          "metadata": {}
        }
      ]
    },
    {
      "cell_type": "markdown",
      "metadata": {
        "id": "wYdUasXL8_aE"
      },
      "source": [
        "We can pass -2 to `freeze_to` to freeze all except the last two parameter groups"
      ]
    },
    {
      "cell_type": "code",
      "metadata": {
        "id": "CUmqMdz0xYrp",
        "colab": {
          "base_uri": "https://localhost:8080/",
          "height": 110
        },
        "outputId": "73ccd8f7-fd2f-400b-e64a-e64e4367dd0b"
      },
      "source": [
        "genre_classifier.freeze_to(-2)\n",
        "genre_classifier.fit_one_cycle(2,slice(1e-2/(2.6**4),1e-2))"
      ],
      "execution_count": null,
      "outputs": [
        {
          "output_type": "display_data",
          "data": {
            "text/html": [
              "<table border=\"1\" class=\"dataframe\">\n",
              "  <thead>\n",
              "    <tr style=\"text-align: left;\">\n",
              "      <th>epoch</th>\n",
              "      <th>train_loss</th>\n",
              "      <th>valid_loss</th>\n",
              "      <th>accuracy_multi</th>\n",
              "      <th>f1_score</th>\n",
              "      <th>time</th>\n",
              "    </tr>\n",
              "  </thead>\n",
              "  <tbody>\n",
              "    <tr>\n",
              "      <td>0</td>\n",
              "      <td>0.091300</td>\n",
              "      <td>0.082191</td>\n",
              "      <td>0.971590</td>\n",
              "      <td>0.127512</td>\n",
              "      <td>02:08</td>\n",
              "    </tr>\n",
              "    <tr>\n",
              "      <td>1</td>\n",
              "      <td>0.084142</td>\n",
              "      <td>0.077592</td>\n",
              "      <td>0.972989</td>\n",
              "      <td>0.143362</td>\n",
              "      <td>02:08</td>\n",
              "    </tr>\n",
              "  </tbody>\n",
              "</table>"
            ],
            "text/plain": [
              "<IPython.core.display.HTML object>"
            ]
          },
          "metadata": {}
        }
      ]
    },
    {
      "cell_type": "markdown",
      "metadata": {
        "id": "aG-PPYdX9KRC"
      },
      "source": [
        "Freeze all layers except the last three parameter groups"
      ]
    },
    {
      "cell_type": "code",
      "metadata": {
        "id": "hxlY0icXxg1N",
        "colab": {
          "base_uri": "https://localhost:8080/",
          "height": 110
        },
        "outputId": "cb07fc81-95fe-48f9-e7b8-9a99d4bd11fa"
      },
      "source": [
        "genre_classifier.freeze_to(-3)\n",
        "genre_classifier.fit_one_cycle(2,slice(5e-3/(2.6**4),5e-3))"
      ],
      "execution_count": null,
      "outputs": [
        {
          "output_type": "display_data",
          "data": {
            "text/html": [
              "<table border=\"1\" class=\"dataframe\">\n",
              "  <thead>\n",
              "    <tr style=\"text-align: left;\">\n",
              "      <th>epoch</th>\n",
              "      <th>train_loss</th>\n",
              "      <th>valid_loss</th>\n",
              "      <th>accuracy_multi</th>\n",
              "      <th>f1_score</th>\n",
              "      <th>time</th>\n",
              "    </tr>\n",
              "  </thead>\n",
              "  <tbody>\n",
              "    <tr>\n",
              "      <td>0</td>\n",
              "      <td>0.081114</td>\n",
              "      <td>0.075187</td>\n",
              "      <td>0.973590</td>\n",
              "      <td>0.166435</td>\n",
              "      <td>03:34</td>\n",
              "    </tr>\n",
              "    <tr>\n",
              "      <td>1</td>\n",
              "      <td>0.077921</td>\n",
              "      <td>0.073243</td>\n",
              "      <td>0.974235</td>\n",
              "      <td>0.176155</td>\n",
              "      <td>03:33</td>\n",
              "    </tr>\n",
              "  </tbody>\n",
              "</table>"
            ],
            "text/plain": [
              "<IPython.core.display.HTML object>"
            ]
          },
          "metadata": {}
        }
      ]
    },
    {
      "cell_type": "markdown",
      "metadata": {
        "id": "FmrQ0lTJ9Tud"
      },
      "source": [
        "Finally, unfreeze the whole model "
      ]
    },
    {
      "cell_type": "code",
      "metadata": {
        "id": "5qQjOYRH2HIP",
        "colab": {
          "base_uri": "https://localhost:8080/",
          "height": 233
        },
        "outputId": "a3d31508-850b-4fa2-f8a7-c2f9ba9528ad"
      },
      "source": [
        "genre_classifier.unfreeze()\n",
        "genre_classifier.fit_one_cycle(6,slice(1e-3/(2.6**4),1e-3))"
      ],
      "execution_count": null,
      "outputs": [
        {
          "output_type": "display_data",
          "data": {
            "text/html": [
              "<table border=\"1\" class=\"dataframe\">\n",
              "  <thead>\n",
              "    <tr style=\"text-align: left;\">\n",
              "      <th>epoch</th>\n",
              "      <th>train_loss</th>\n",
              "      <th>valid_loss</th>\n",
              "      <th>accuracy_multi</th>\n",
              "      <th>f1_score</th>\n",
              "      <th>time</th>\n",
              "    </tr>\n",
              "  </thead>\n",
              "  <tbody>\n",
              "    <tr>\n",
              "      <td>0</td>\n",
              "      <td>0.076283</td>\n",
              "      <td>0.072783</td>\n",
              "      <td>0.974292</td>\n",
              "      <td>0.180307</td>\n",
              "      <td>04:35</td>\n",
              "    </tr>\n",
              "    <tr>\n",
              "      <td>1</td>\n",
              "      <td>0.075507</td>\n",
              "      <td>0.072015</td>\n",
              "      <td>0.974550</td>\n",
              "      <td>0.188887</td>\n",
              "      <td>04:35</td>\n",
              "    </tr>\n",
              "    <tr>\n",
              "      <td>2</td>\n",
              "      <td>0.074585</td>\n",
              "      <td>0.071453</td>\n",
              "      <td>0.974621</td>\n",
              "      <td>0.192435</td>\n",
              "      <td>04:36</td>\n",
              "    </tr>\n",
              "    <tr>\n",
              "      <td>3</td>\n",
              "      <td>0.073513</td>\n",
              "      <td>0.070938</td>\n",
              "      <td>0.974852</td>\n",
              "      <td>0.200950</td>\n",
              "      <td>04:35</td>\n",
              "    </tr>\n",
              "    <tr>\n",
              "      <td>4</td>\n",
              "      <td>0.073082</td>\n",
              "      <td>0.070628</td>\n",
              "      <td>0.974956</td>\n",
              "      <td>0.202417</td>\n",
              "      <td>04:35</td>\n",
              "    </tr>\n",
              "    <tr>\n",
              "      <td>5</td>\n",
              "      <td>0.072698</td>\n",
              "      <td>0.070572</td>\n",
              "      <td>0.975073</td>\n",
              "      <td>0.202838</td>\n",
              "      <td>04:38</td>\n",
              "    </tr>\n",
              "  </tbody>\n",
              "</table>"
            ],
            "text/plain": [
              "<IPython.core.display.HTML object>"
            ]
          },
          "metadata": {}
        }
      ]
    },
    {
      "cell_type": "markdown",
      "metadata": {
        "id": "zRU_hHFn-VSh"
      },
      "source": [
        "*What does the loss look like?*"
      ]
    },
    {
      "cell_type": "code",
      "metadata": {
        "id": "rQt_-KDEdN6v",
        "colab": {
          "base_uri": "https://localhost:8080/",
          "height": 268
        },
        "outputId": "b84c2ae5-9ee6-4639-ad29-c009a33f9b5f"
      },
      "source": [
        "genre_classifier.recorder.plot_loss()"
      ],
      "execution_count": null,
      "outputs": [
        {
          "output_type": "display_data",
          "data": {
            "image/png": "[encoded data removed]",
            "text/plain": [
              "<Figure size 432x288 with 1 Axes>"
            ]
          },
          "metadata": {
            "needs_background": "light"
          }
        }
      ]
    },
    {
      "cell_type": "markdown",
      "metadata": {
        "id": "fUShmOPU-bO3"
      },
      "source": [
        "*Which instances had the highest loss?*"
      ]
    },
    {
      "cell_type": "code",
      "metadata": {
        "colab": {
          "base_uri": "https://localhost:8080/",
          "height": 905
        },
        "id": "ENhNcglqdUMU",
        "outputId": "a5530b06-79ce-4e10-f23b-a51f3e999297"
      },
      "source": [
        "interp = ClassificationInterpretation.from_learner(genre_classifier)\n",
        "interp.plot_top_losses(5)"
      ],
      "execution_count": null,
      "outputs": [
        {
          "output_type": "display_data",
          "data": {
            "text/html": [
              ""
            ],
            "text/plain": [
              "<IPython.core.display.HTML object>"
            ]
          },
          "metadata": {}
        },
        {
          "output_type": "display_data",
          "data": {
            "text/html": [
              "<table border=\"1\" class=\"dataframe\">\n",
              "  <thead>\n",
              "    <tr style=\"text-align: right;\">\n",
              "      <th></th>\n",
              "      <th>input</th>\n",
              "      <th>target</th>\n",
              "      <th>predicted</th>\n",
              "      <th>probability</th>\n",
              "      <th>loss</th>\n",
              "    </tr>\n",
              "  </thead>\n",
              "  <tbody>\n",
              "    <tr>\n",
              "      <th>0</th>\n",
              "      <td>xxbos xxmaj january 27 , 2027 - xxmaj one day around the xxunk after the last page of the xxmaj in the xxmaj company of xxmaj shadows series , seven stories show glimpses of the lives of fifteen characters , scattered across the globe . xxmaj in xxmaj ireland , an unexpected reunion takes a terrible turn . xxmaj in xxmaj australia , the tides are changing while those involved never stop watching . xxmaj in xxmaj mexico , fear brings uncertainty into a once strong relationship . xxmaj and in the xxmaj united xxmaj states , worlds are about to xxunk / 27 answers the important question : xxmaj what happens next ?</td>\n",
              "      <td>Dark;LGBT;Romance;Romance (M M Romance) ;Science Fiction (Dystopia) ;Short Stories;War (Military Fiction)</td>\n",
              "      <td>Apocalyptic (Post Apocalyptic) ;Horror;Horror (Zombies) ;Science Fiction (Apocalyptic) ;Science Fiction (Dystopia)</td>\n",
              "      <td>0.9664104580879211</td>\n",
              "      <td>0.2723136246204376</td>\n",
              "    </tr>\n",
              "    <tr>\n",
              "      <th>1</th>\n",
              "      <td>xxbos xxmaj bethany xxmaj anne and those in the xxmaj etheric xxmaj empire have conquered the xxmaj aliens who would conquer xxunk , there are a few that do not appreciate the new rules . xxmaj dealing with xxunk down on the planet , or with a large military rebellion coming from another system , xxmaj bethany xxmaj anne and team are ready and willing to give everyone a piece of their xxunk there is one common attitude that runs in all of those who fight for the xxmaj etheric xxunk will xxup never xxup surrender .</td>\n",
              "      <td>Action;Fantasy (Paranormal) ;Fantasy (Supernatural) ;Fantasy (Urban Fantasy) ;Paranormal (Vampires) ;Science Fiction (Aliens) ;War (Military Fiction)</td>\n",
              "      <td>Science Fiction (Aliens) ;Science Fiction (Military Science Fiction) ;Space;Space (Space Opera) ;War (Military Fiction)</td>\n",
              "      <td>0.8840392827987671</td>\n",
              "      <td>0.2709902822971344</td>\n",
              "    </tr>\n",
              "    <tr>\n",
              "      <th>2</th>\n",
              "      <td>xxbos xxmaj for centuries , the wampyr has drifted from one place to another . xxmaj from one life to another . xxmaj it 's 1962 , and he 's returned to xxmaj new xxmaj amsterdam for the first time since he fled it on pain of death some sixty years before . xxmaj on the eve of social revolution , on the cusp of a new way of life , he 's nevertheless surrounded by inescapable reminders of who he used to xxunk a thousand years , he 's chosen to change rather than to die . xxmaj now , at last , he faces a different future … .</td>\n",
              "      <td>Fantasy (Paranormal) ;Fantasy (Urban Fantasy) ;Horror;Mystery;Paranormal (Vampires) ;Science Fiction (Alternate History) ;Science Fiction (Steampunk)</td>\n",
              "      <td>Science Fiction (Time Travel) ;Science Fiction Fantasy</td>\n",
              "      <td>0.8934953808784485</td>\n",
              "      <td>0.25001761317253113</td>\n",
              "    </tr>\n",
              "    <tr>\n",
              "      <th>3</th>\n",
              "      <td>xxbos xxmaj erich von xxmaj daniken 's xxmaj chariots of the xxmaj gods is a work of monumental importance -- the first book to introduce the shocking theory that ancient xxmaj earth had been visited by aliens . xxmaj this world - famous bestseller has xxunk the test of time , inspiring countless books and films , including the author 's own popular sequel , xxmaj the xxmaj eyes of the xxmaj sphinx . xxmaj but here is where it all began -- von xxmaj daniken 's startling theories of our earliest encounters with alien worlds , based upon his lifelong studies of ancient ruins , lost cities , potential xxunk , and a myriad of hard scientific facts that point to extraterrestrial intervention in human history . xxmaj most incredible of all , however , is von xxmaj daniken 's theory that we ourselves are the descendants of these</td>\n",
              "      <td>Fantasy (Mythology) ;Fantasy (Paranormal) ;Nonfiction;Religion;Science;Science Fiction (Aliens)</td>\n",
              "      <td>Science Fiction Fantasy;Space (Space Opera) ;Speculative Fiction</td>\n",
              "      <td>0.929568350315094</td>\n",
              "      <td>0.24613453447818756</td>\n",
              "    </tr>\n",
              "    <tr>\n",
              "      <th>4</th>\n",
              "      <td>xxbos xxmaj she awoke in an alley to the splash of rain . xxmaj she was naked , a foot - long xxunk in her back was still bleeding , and her identity implant was gone . xxmaj lore xxmaj van xxmaj xxunk had been the daughter of one of the world 's most powerful families … and now she was nobody , and she had to hide . xxmaj then out of the rain walked xxmaj spanner , predator and thief , who took her in , cared for her wound , and taught her how to reinvent herself again and again . xxmaj no one could find xxmaj lore now : not the police , not her family , and not the kidnappers who had left her in that alley to die . xxmaj she had escaped … but the cost of her newfound freedom was crime and</td>\n",
              "      <td>GLBT (Queer) ;LGBT;Mystery;Science Fiction (Cyberpunk) ;Science Fiction Fantasy;Speculative Fiction</td>\n",
              "      <td>Romance;Young Adult</td>\n",
              "      <td>0.8957052826881409</td>\n",
              "      <td>0.22296269237995148</td>\n",
              "    </tr>\n",
              "  </tbody>\n",
              "</table>"
            ],
            "text/plain": [
              "<IPython.core.display.HTML object>"
            ]
          },
          "metadata": {}
        }
      ]
    },
    {
      "cell_type": "markdown",
      "metadata": {
        "id": "ja1j2kHUAK-S"
      },
      "source": [
        "Let's save the model for later use "
      ]
    },
    {
      "cell_type": "code",
      "metadata": {
        "id": "L3SthHnqSGV5"
      },
      "source": [
        "genre_classifier.export('models/multi_genre_classifier.pkl') "
      ],
      "execution_count": null,
      "outputs": []
    },
    {
      "cell_type": "markdown",
      "metadata": {
        "id": "9e-2VYtHBS8T"
      },
      "source": [
        "## Conclusion\n",
        "\n",
        "In this notebook, we built a multi-label genre predictor. Now that we have created our model, it is super important to put it to the test and see how it works on unseen data. In the next notebook, we will use the model built here and create a genre predictor application.  \n",
        "\n"
      ]
    }
  ]
}